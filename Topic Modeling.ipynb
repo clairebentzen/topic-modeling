{
 "cells": [
  {
   "cell_type": "markdown",
   "id": "bce2bb89",
   "metadata": {},
   "source": [
    "# ADS 509 Assignment 5.1: Topic Modeling\n",
    "\n",
    "This notebook holds Assignment 5.1 for Module 5 in ADS 509, Applied Text Mining. Work through this notebook, writing code and answering questions where required. \n",
    "\n",
    "In this assignment you will work with a categorical corpus that accompanies `nltk`. You will build the three types of topic models described in Chapter 8 of _Blueprints for Text Analytics using Python_: NMF, LSA, and LDA. You will compare these models to the true categories. \n"
   ]
  },
  {
   "cell_type": "code",
   "execution_count": 1,
   "id": "a85bce08",
   "metadata": {
    "scrolled": true
   },
   "outputs": [
    {
     "name": "stderr",
     "output_type": "stream",
     "text": [
      "[nltk_data] Downloading package brown to\n",
      "[nltk_data]     /Users/clairebentzen/nltk_data...\n",
      "[nltk_data]   Package brown is already up-to-date!\n"
     ]
    }
   ],
   "source": [
    "# These libraries may be useful to you\n",
    "import nltk\n",
    "nltk.download('brown')\n",
    "from nltk.corpus import brown\n",
    "\n",
    "import numpy as np\n",
    "import pandas as pd\n",
    "from tqdm.auto import tqdm\n",
    "\n",
    "#conda install -c conda-forge pyldavis\n",
    "import pyLDAvis\n",
    "import pyLDAvis.lda_model\n",
    "import pyLDAvis.gensim_models\n",
    "\n",
    "#conda install -c conda-forge spacy\n",
    "import spacy\n",
    "from sklearn.feature_extraction.text import TfidfVectorizer, CountVectorizer\n",
    "from sklearn.decomposition import NMF, TruncatedSVD, LatentDirichletAllocation\n",
    "\n",
    "from spacy.lang.en.stop_words import STOP_WORDS as stopwords\n",
    "\n",
    "from collections import Counter, defaultdict\n",
    "\n",
    "import spacy.cli\n",
    "#spacy.cli.download(\"en_core_web_sm\")\n",
    "import en_core_web_sm\n",
    "\n",
    "\n",
    "nlp = en_core_web_sm.load()"
   ]
  },
  {
   "cell_type": "code",
   "execution_count": 2,
   "id": "a218df60",
   "metadata": {},
   "outputs": [],
   "source": [
    "# add any additional libraries you need here\n",
    "import matplotlib.pyplot as plt\n",
    "\n"
   ]
  },
  {
   "cell_type": "code",
   "execution_count": 3,
   "id": "494de237",
   "metadata": {},
   "outputs": [],
   "source": [
    "# This function comes from the BTAP repo.\n",
    "\n",
    "def display_topics(model, features, no_top_words=5):\n",
    "    for topic, words in enumerate(model.components_):\n",
    "        total = words.sum()\n",
    "        largest = words.argsort()[::-1] # invert sort order\n",
    "        print(\"\\nTopic %02d\" % topic)\n",
    "        for i in range(0, no_top_words):\n",
    "            print(\"  %s (%2.2f)\" % (features[largest[i]], abs(words[largest[i]]*100.0/total)))"
   ]
  },
  {
   "cell_type": "markdown",
   "id": "a30a901c",
   "metadata": {},
   "source": [
    "## Getting to Know the Brown Corpus\n",
    "\n",
    "Let's spend a bit of time getting to know what's in the Brown corpus, our NLTK example of an \"overlapping\" corpus."
   ]
  },
  {
   "cell_type": "code",
   "execution_count": 4,
   "id": "457c59ed",
   "metadata": {},
   "outputs": [
    {
     "name": "stdout",
     "output_type": "stream",
     "text": [
      "For adventure we have 29 articles.\n",
      "For belles_lettres we have 75 articles.\n",
      "For editorial we have 27 articles.\n",
      "For fiction we have 29 articles.\n",
      "For government we have 30 articles.\n",
      "For hobbies we have 36 articles.\n",
      "For humor we have 9 articles.\n",
      "For learned we have 80 articles.\n",
      "For lore we have 48 articles.\n",
      "For mystery we have 24 articles.\n",
      "For news we have 44 articles.\n",
      "For religion we have 17 articles.\n",
      "For reviews we have 17 articles.\n",
      "For romance we have 29 articles.\n",
      "For science_fiction we have 6 articles.\n"
     ]
    }
   ],
   "source": [
    "# categories of articles in Brown corpus\n",
    "for category in brown.categories() :\n",
    "    print(f\"For {category} we have {len(brown.fileids(categories=category))} articles.\")"
   ]
  },
  {
   "cell_type": "markdown",
   "id": "23fb133c",
   "metadata": {},
   "source": [
    "Let's create a dataframe of the articles in of hobbies, editorial, government, news, and romance."
   ]
  },
  {
   "cell_type": "code",
   "execution_count": 5,
   "id": "18f50b9d",
   "metadata": {},
   "outputs": [
    {
     "data": {
      "text/plain": [
       "(166, 3)"
      ]
     },
     "execution_count": 5,
     "metadata": {},
     "output_type": "execute_result"
    }
   ],
   "source": [
    "categories = ['editorial','government','news','romance','hobbies'] \n",
    "\n",
    "category_list = []\n",
    "file_ids = []\n",
    "texts = []\n",
    "\n",
    "for category in categories : \n",
    "    for file_id in brown.fileids(categories=category) :\n",
    "        \n",
    "        # build some lists for a dataframe\n",
    "        category_list.append(category)\n",
    "        file_ids.append(file_id)\n",
    "        \n",
    "        text = brown.words(fileids=file_id)\n",
    "        texts.append(\" \".join(text))\n",
    "\n",
    "        \n",
    "        \n",
    "df = pd.DataFrame()\n",
    "df['category'] = category_list\n",
    "df['id'] = file_ids\n",
    "df['text'] = texts \n",
    "\n",
    "df.shape"
   ]
  },
  {
   "cell_type": "code",
   "execution_count": 6,
   "id": "586f47de",
   "metadata": {},
   "outputs": [],
   "source": [
    "# Let's add some helpful columns on the df\n",
    "df['char_len'] = df['text'].apply(len)\n",
    "df['word_len'] = df['text'].apply(lambda x: len(x.split()))"
   ]
  },
  {
   "cell_type": "code",
   "execution_count": 7,
   "id": "2128fd2d",
   "metadata": {},
   "outputs": [
    {
     "data": {
      "text/plain": [
       "<Axes: xlabel='category'>"
      ]
     },
     "execution_count": 7,
     "metadata": {},
     "output_type": "execute_result"
    },
    {
     "data": {
      "image/png": "[encoded data removed]",
      "text/plain": [
       "<Figure size 1000x600 with 1 Axes>"
      ]
     },
     "metadata": {},
     "output_type": "display_data"
    }
   ],
   "source": [
    "%matplotlib inline\n",
    "df.groupby('category').agg({'word_len': 'mean'}).plot.bar(figsize=(10,6))"
   ]
  },
  {
   "cell_type": "markdown",
   "id": "554ffeb5",
   "metadata": {},
   "source": [
    "Now do our TF-IDF and Count vectorizations."
   ]
  },
  {
   "cell_type": "code",
   "execution_count": 8,
   "id": "21a7d247",
   "metadata": {},
   "outputs": [
    {
     "name": "stderr",
     "output_type": "stream",
     "text": [
      "/Users/clairebentzen/anaconda3/lib/python3.11/site-packages/sklearn/feature_extraction/text.py:408: UserWarning: Your stop_words may be inconsistent with your preprocessing. Tokenizing the stop words generated tokens ['ll', 've'] not in stop_words.\n",
      "  warnings.warn(\n"
     ]
    },
    {
     "data": {
      "text/plain": [
       "(166, 4941)"
      ]
     },
     "execution_count": 8,
     "metadata": {},
     "output_type": "execute_result"
    }
   ],
   "source": [
    "count_text_vectorizer = CountVectorizer(stop_words=list(stopwords), min_df=5, max_df=0.7)\n",
    "count_text_vectors = count_text_vectorizer.fit_transform(df[\"text\"])\n",
    "count_text_vectors.shape"
   ]
  },
  {
   "cell_type": "code",
   "execution_count": 9,
   "id": "875deba9",
   "metadata": {},
   "outputs": [
    {
     "data": {
      "text/plain": [
       "(166, 4941)"
      ]
     },
     "execution_count": 9,
     "metadata": {},
     "output_type": "execute_result"
    }
   ],
   "source": [
    "tfidf_text_vectorizer = TfidfVectorizer(stop_words=list(stopwords), min_df=5, max_df=0.7)\n",
    "tfidf_text_vectors = tfidf_text_vectorizer.fit_transform(df['text'])\n",
    "tfidf_text_vectors.shape"
   ]
  },
  {
   "cell_type": "markdown",
   "id": "a1062b21",
   "metadata": {},
   "source": [
    "Q: What do the two data frames `count_text_vectors` and `tfidf_text_vectors` hold? \n",
    "\n",
    "A: The count_text_vectors is a sparse matrix that holds the token frequency counts of the text, with the columns being the tokens and the rows referring to the texts. The tfidf_text_vectors holds a sparse matrix that is similar to count_text_vectors, except the token frequency counts are scaled by the TF-IDF weights. For both dataframes, stopwords are removed, it only includes tokens that are in a minimum of 5 texts, and tokens that are present in 70% or more of the texts are not included."
   ]
  },
  {
   "cell_type": "markdown",
   "id": "f77c3f94",
   "metadata": {},
   "source": [
    "## Fitting a Non-Negative Matrix Factorization Model\n",
    "\n",
    "In this section the code to fit a five-topic NMF model has already been written. This code comes directly from the [BTAP repo](https://github.com/blueprints-for-text-analytics-python/blueprints-text), which will help you tremendously in the coming sections. "
   ]
  },
  {
   "cell_type": "code",
   "execution_count": 10,
   "id": "d28745a3",
   "metadata": {},
   "outputs": [],
   "source": [
    "nmf_text_model = NMF(n_components=5, random_state=314)\n",
    "W_text_matrix = nmf_text_model.fit_transform(tfidf_text_vectors)\n",
    "H_text_matrix = nmf_text_model.components_"
   ]
  },
  {
   "cell_type": "code",
   "execution_count": 11,
   "id": "a67185e7",
   "metadata": {},
   "outputs": [
    {
     "name": "stdout",
     "output_type": "stream",
     "text": [
      "\n",
      "Topic 00\n",
      "  mr (0.51)\n",
      "  president (0.45)\n",
      "  kennedy (0.43)\n",
      "  united (0.42)\n",
      "  khrushchev (0.40)\n",
      "\n",
      "Topic 01\n",
      "  said (0.88)\n",
      "  didn (0.46)\n",
      "  ll (0.45)\n",
      "  thought (0.42)\n",
      "  man (0.37)\n",
      "\n",
      "Topic 02\n",
      "  state (0.39)\n",
      "  development (0.36)\n",
      "  tax (0.33)\n",
      "  sales (0.30)\n",
      "  program (0.25)\n",
      "\n",
      "Topic 03\n",
      "  mrs (2.61)\n",
      "  mr (0.78)\n",
      "  said (0.63)\n",
      "  miss (0.52)\n",
      "  car (0.51)\n",
      "\n",
      "Topic 04\n",
      "  game (1.02)\n",
      "  league (0.74)\n",
      "  ball (0.72)\n",
      "  baseball (0.71)\n",
      "  team (0.66)\n"
     ]
    }
   ],
   "source": [
    "display_topics(nmf_text_model, tfidf_text_vectorizer.get_feature_names_out())"
   ]
  },
  {
   "cell_type": "markdown",
   "id": "fee51e9b",
   "metadata": {},
   "source": [
    "Now some work for you to do. Compare the NMF categorization to the original categories from the Brown Corpus.\n",
    "\n",
    "We are interested in the extent to which our NMF categorization agrees or disagrees with the original categories in the corpus. For each topic in your NMF model, tally the Brown categories and interpret the results. \n"
   ]
  },
  {
   "cell_type": "code",
   "execution_count": 30,
   "id": "7c8c8eb0",
   "metadata": {},
   "outputs": [
    {
     "data": {
      "text/html": [
       "<div>\n",
       "<style scoped>\n",
       "    .dataframe tbody tr th:only-of-type {\n",
       "        vertical-align: middle;\n",
       "    }\n",
       "\n",
       "    .dataframe tbody tr th {\n",
       "        vertical-align: top;\n",
       "    }\n",
       "\n",
       "    .dataframe thead th {\n",
       "        text-align: right;\n",
       "    }\n",
       "</style>\n",
       "<table border=\"1\" class=\"dataframe\">\n",
       "  <thead>\n",
       "    <tr style=\"text-align: right;\">\n",
       "      <th></th>\n",
       "      <th>nmf_cat</th>\n",
       "      <th>category</th>\n",
       "      <th>count</th>\n",
       "    </tr>\n",
       "  </thead>\n",
       "  <tbody>\n",
       "    <tr>\n",
       "      <th>0</th>\n",
       "      <td>0</td>\n",
       "      <td>editorial</td>\n",
       "      <td>20</td>\n",
       "    </tr>\n",
       "    <tr>\n",
       "      <th>2</th>\n",
       "      <td>0</td>\n",
       "      <td>news</td>\n",
       "      <td>8</td>\n",
       "    </tr>\n",
       "    <tr>\n",
       "      <th>1</th>\n",
       "      <td>0</td>\n",
       "      <td>government</td>\n",
       "      <td>4</td>\n",
       "    </tr>\n",
       "    <tr>\n",
       "      <th>5</th>\n",
       "      <td>1</td>\n",
       "      <td>romance</td>\n",
       "      <td>29</td>\n",
       "    </tr>\n",
       "    <tr>\n",
       "      <th>4</th>\n",
       "      <td>1</td>\n",
       "      <td>hobbies</td>\n",
       "      <td>8</td>\n",
       "    </tr>\n",
       "    <tr>\n",
       "      <th>3</th>\n",
       "      <td>1</td>\n",
       "      <td>editorial</td>\n",
       "      <td>4</td>\n",
       "    </tr>\n",
       "    <tr>\n",
       "      <th>7</th>\n",
       "      <td>2</td>\n",
       "      <td>government</td>\n",
       "      <td>26</td>\n",
       "    </tr>\n",
       "    <tr>\n",
       "      <th>8</th>\n",
       "      <td>2</td>\n",
       "      <td>hobbies</td>\n",
       "      <td>26</td>\n",
       "    </tr>\n",
       "    <tr>\n",
       "      <th>9</th>\n",
       "      <td>2</td>\n",
       "      <td>news</td>\n",
       "      <td>11</td>\n",
       "    </tr>\n",
       "    <tr>\n",
       "      <th>6</th>\n",
       "      <td>2</td>\n",
       "      <td>editorial</td>\n",
       "      <td>2</td>\n",
       "    </tr>\n",
       "    <tr>\n",
       "      <th>11</th>\n",
       "      <td>3</td>\n",
       "      <td>news</td>\n",
       "      <td>17</td>\n",
       "    </tr>\n",
       "    <tr>\n",
       "      <th>10</th>\n",
       "      <td>3</td>\n",
       "      <td>hobbies</td>\n",
       "      <td>1</td>\n",
       "    </tr>\n",
       "    <tr>\n",
       "      <th>14</th>\n",
       "      <td>4</td>\n",
       "      <td>news</td>\n",
       "      <td>8</td>\n",
       "    </tr>\n",
       "    <tr>\n",
       "      <th>12</th>\n",
       "      <td>4</td>\n",
       "      <td>editorial</td>\n",
       "      <td>1</td>\n",
       "    </tr>\n",
       "    <tr>\n",
       "      <th>13</th>\n",
       "      <td>4</td>\n",
       "      <td>hobbies</td>\n",
       "      <td>1</td>\n",
       "    </tr>\n",
       "  </tbody>\n",
       "</table>\n",
       "</div>"
      ],
      "text/plain": [
       "    nmf_cat    category  count\n",
       "0         0   editorial     20\n",
       "2         0        news      8\n",
       "1         0  government      4\n",
       "5         1     romance     29\n",
       "4         1     hobbies      8\n",
       "3         1   editorial      4\n",
       "7         2  government     26\n",
       "8         2     hobbies     26\n",
       "9         2        news     11\n",
       "6         2   editorial      2\n",
       "11        3        news     17\n",
       "10        3     hobbies      1\n",
       "14        4        news      8\n",
       "12        4   editorial      1\n",
       "13        4     hobbies      1"
      ]
     },
     "execution_count": 30,
     "metadata": {},
     "output_type": "execute_result"
    }
   ],
   "source": [
    "# Get topic from W matrix for each text\n",
    "df['nmf_cat'] = W_text_matrix.argmax(axis=1)\n",
    "\n",
    "# Count categories by each NMF assigned topic\n",
    "nmf_comparison = df.groupby(['nmf_cat', 'category']).size().reset_index(name='count')\n",
    "nmf_comparison_sort = nmf_comparison.sort_values(by=['nmf_cat', 'count'], ascending=[True, False])\n",
    "nmf_comparison_sort"
   ]
  },
  {
   "cell_type": "markdown",
   "id": "f8d4e2bc",
   "metadata": {},
   "source": [
    "Q: How does your five-topic NMF model compare to the original Brown categories? \n",
    "\n",
    "A: Topic 0, which includes mr, president, kennedy, united, and khrushchev, as the top tokens, was assigned to the texts in the following categories: editorial (20 times), news (8 times), and government (4 times). Topic 1, which includes said, didn, ll, thought, and man, as the top tokens, was assigned to the texts in the following categories: romance (29 times), hobbies (8 times), and editorial (4 times). Topic 2, which includes state, development, tax, sales, and program, as the top tokens, was assigned to the texts in the following categories: government (26 times), hobbies (26 times), news (11 times), and editorial (2 times). Topic 3, which includes mrs, mr, said, miss, and car, as the top tokens, was assigned to the texts in the following categories: news (17 times) and hobbies (1 time). Topic 4, which includes game, league, ball, baseball, and team, as the top tokens, was assigned to the texts in the following categories: news (8 times), editorial (1 time), and hobbies (1 time). In general, I would say these topics don't do a very good job at identifying the original categories."
   ]
  },
  {
   "cell_type": "markdown",
   "id": "82e37cb5",
   "metadata": {},
   "source": [
    "## Fitting an LSA Model\n",
    "\n",
    "In this section, follow the example from the repository and fit an LSA model (called a \"TruncatedSVD\" in `sklearn`). Again fit a five-topic model and compare it to the actual categories in the Brown corpus. Use the TF-IDF vectors for your fit, as above. \n",
    "\n",
    "To be explicit, we are once again interested in the extent to which this LSA factorization agrees or disagrees with the original categories in the corpus. For each topic in your model, tally the Brown categories and interpret the results. \n"
   ]
  },
  {
   "cell_type": "code",
   "execution_count": 12,
   "id": "00b53d3d",
   "metadata": {},
   "outputs": [],
   "source": [
    "# Fit an LSA (TruncatedSVD) model\n",
    "lsa_text_model = TruncatedSVD(n_components=5, random_state=314)\n",
    "W_lsa_matrix = lsa_text_model.fit_transform(tfidf_text_vectors)\n",
    "H_lsa_matrix = lsa_text_model.components_"
   ]
  },
  {
   "cell_type": "code",
   "execution_count": 14,
   "id": "377a886e",
   "metadata": {},
   "outputs": [
    {
     "name": "stdout",
     "output_type": "stream",
     "text": [
      "\n",
      "Topic 00\n",
      "  said (0.44)\n",
      "  mr (0.25)\n",
      "  mrs (0.22)\n",
      "  state (0.20)\n",
      "  man (0.17)\n",
      "\n",
      "Topic 01\n",
      "  said (3.89)\n",
      "  ll (2.73)\n",
      "  didn (2.63)\n",
      "  thought (2.20)\n",
      "  got (1.97)\n",
      "\n",
      "Topic 02\n",
      "  mrs (3.12)\n",
      "  mr (1.70)\n",
      "  said (1.06)\n",
      "  kennedy (0.82)\n",
      "  khrushchev (0.77)\n",
      "\n",
      "Topic 03\n",
      "  mrs (29.45)\n",
      "  club (6.53)\n",
      "  game (6.12)\n",
      "  jr (5.60)\n",
      "  university (5.20)\n",
      "\n",
      "Topic 04\n",
      "  game (4.54)\n",
      "  league (3.27)\n",
      "  baseball (3.22)\n",
      "  ball (3.10)\n",
      "  team (2.94)\n"
     ]
    }
   ],
   "source": [
    "# Display Topics\n",
    "display_topics(lsa_text_model, tfidf_text_vectorizer.get_feature_names_out())"
   ]
  },
  {
   "cell_type": "markdown",
   "id": "ea8b280a",
   "metadata": {},
   "source": [
    "Q: What is your interpretation of the display topics output? \n",
    "\n",
    "A: "
   ]
  },
  {
   "cell_type": "code",
   "execution_count": 13,
   "id": "e389e1df",
   "metadata": {},
   "outputs": [
    {
     "data": {
      "text/html": [
       "<div>\n",
       "<style scoped>\n",
       "    .dataframe tbody tr th:only-of-type {\n",
       "        vertical-align: middle;\n",
       "    }\n",
       "\n",
       "    .dataframe tbody tr th {\n",
       "        vertical-align: top;\n",
       "    }\n",
       "\n",
       "    .dataframe thead th {\n",
       "        text-align: right;\n",
       "    }\n",
       "</style>\n",
       "<table border=\"1\" class=\"dataframe\">\n",
       "  <thead>\n",
       "    <tr style=\"text-align: right;\">\n",
       "      <th></th>\n",
       "      <th>lsa_cat</th>\n",
       "      <th>category</th>\n",
       "      <th>count</th>\n",
       "    </tr>\n",
       "  </thead>\n",
       "  <tbody>\n",
       "    <tr>\n",
       "      <th>2</th>\n",
       "      <td>0</td>\n",
       "      <td>hobbies</td>\n",
       "      <td>36</td>\n",
       "    </tr>\n",
       "    <tr>\n",
       "      <th>3</th>\n",
       "      <td>0</td>\n",
       "      <td>news</td>\n",
       "      <td>34</td>\n",
       "    </tr>\n",
       "    <tr>\n",
       "      <th>1</th>\n",
       "      <td>0</td>\n",
       "      <td>government</td>\n",
       "      <td>30</td>\n",
       "    </tr>\n",
       "    <tr>\n",
       "      <th>0</th>\n",
       "      <td>0</td>\n",
       "      <td>editorial</td>\n",
       "      <td>27</td>\n",
       "    </tr>\n",
       "    <tr>\n",
       "      <th>4</th>\n",
       "      <td>0</td>\n",
       "      <td>romance</td>\n",
       "      <td>21</td>\n",
       "    </tr>\n",
       "    <tr>\n",
       "      <th>5</th>\n",
       "      <td>1</td>\n",
       "      <td>romance</td>\n",
       "      <td>8</td>\n",
       "    </tr>\n",
       "    <tr>\n",
       "      <th>6</th>\n",
       "      <td>3</td>\n",
       "      <td>news</td>\n",
       "      <td>3</td>\n",
       "    </tr>\n",
       "    <tr>\n",
       "      <th>7</th>\n",
       "      <td>4</td>\n",
       "      <td>news</td>\n",
       "      <td>7</td>\n",
       "    </tr>\n",
       "  </tbody>\n",
       "</table>\n",
       "</div>"
      ],
      "text/plain": [
       "   lsa_cat    category  count\n",
       "2        0     hobbies     36\n",
       "3        0        news     34\n",
       "1        0  government     30\n",
       "0        0   editorial     27\n",
       "4        0     romance     21\n",
       "5        1     romance      8\n",
       "6        3        news      3\n",
       "7        4        news      7"
      ]
     },
     "execution_count": 13,
     "metadata": {},
     "output_type": "execute_result"
    }
   ],
   "source": [
    "# Get topic from W matrix for each text\n",
    "df['lsa_cat'] = W_lsa_matrix.argmax(axis=1)\n",
    "\n",
    "# Count categories by each LSA assigned topic\n",
    "lsa_comparison = df.groupby(['lsa_cat', 'category']).size().reset_index(name='count')\n",
    "lsa_comparison_sort = lsa_comparison.sort_values(by=['lsa_cat', 'count'], ascending=[True, False])\n",
    "lsa_comparison_sort"
   ]
  },
  {
   "cell_type": "markdown",
   "id": "4d94d56f",
   "metadata": {},
   "source": [
    "Q: How does your five-topic LSA model compare to the original Brown categories? \n",
    "\n",
    "A: <!-- Your answer here --> "
   ]
  },
  {
   "cell_type": "markdown",
   "id": "b4ab4d29",
   "metadata": {},
   "source": [
    "## Fitting an LDA Model\n",
    "\n",
    "Finally, fit a five-topic LDA model using the count vectors (`count_text_vectors` from above). Display the results using `pyLDAvis.display` and describe what you learn from that visualization. "
   ]
  },
  {
   "cell_type": "code",
   "execution_count": 15,
   "id": "802cb8ff",
   "metadata": {},
   "outputs": [],
   "source": [
    "# Fit an LDA model\n",
    "lda_text_model = LatentDirichletAllocation(n_components=5, random_state=314)\n",
    "W_lda_matrix = lda_text_model.fit_transform(count_text_vectors)\n",
    "H_lda_matrix = lda_text_model.components_"
   ]
  },
  {
   "cell_type": "code",
   "execution_count": 16,
   "id": "ab18adf5",
   "metadata": {},
   "outputs": [
    {
     "name": "stdout",
     "output_type": "stream",
     "text": [
      "\n",
      "Topic 00\n",
      "  said (1.05)\n",
      "  mrs (0.82)\n",
      "  little (0.56)\n",
      "  good (0.51)\n",
      "  way (0.50)\n",
      "\n",
      "Topic 01\n",
      "  state (0.67)\n",
      "  development (0.63)\n",
      "  000 (0.57)\n",
      "  program (0.48)\n",
      "  business (0.44)\n",
      "\n",
      "Topic 02\n",
      "  said (1.18)\n",
      "  mr (0.72)\n",
      "  president (0.51)\n",
      "  city (0.43)\n",
      "  state (0.37)\n",
      "\n",
      "Topic 03\n",
      "  feed (0.55)\n",
      "  college (0.54)\n",
      "  general (0.44)\n",
      "  university (0.43)\n",
      "  work (0.37)\n",
      "\n",
      "Topic 04\n",
      "  states (1.14)\n",
      "  state (1.02)\n",
      "  united (0.84)\n",
      "  shall (0.66)\n",
      "  government (0.61)\n"
     ]
    }
   ],
   "source": [
    "# Display topics\n",
    "display_topics(lda_text_model, count_text_vectorizer.get_feature_names_out())"
   ]
  },
  {
   "cell_type": "markdown",
   "id": "f2c67876",
   "metadata": {},
   "source": [
    "Q: What inference do you draw from the displayed topics for your LDA model? \n",
    "\n",
    "A: <!-- Your answer here --> "
   ]
  },
  {
   "cell_type": "code",
   "execution_count": 17,
   "id": "f91e2d1f",
   "metadata": {},
   "outputs": [
    {
     "data": {
      "text/html": [
       "<div>\n",
       "<style scoped>\n",
       "    .dataframe tbody tr th:only-of-type {\n",
       "        vertical-align: middle;\n",
       "    }\n",
       "\n",
       "    .dataframe tbody tr th {\n",
       "        vertical-align: top;\n",
       "    }\n",
       "\n",
       "    .dataframe thead th {\n",
       "        text-align: right;\n",
       "    }\n",
       "</style>\n",
       "<table border=\"1\" class=\"dataframe\">\n",
       "  <thead>\n",
       "    <tr style=\"text-align: right;\">\n",
       "      <th></th>\n",
       "      <th>lda_cat</th>\n",
       "      <th>category</th>\n",
       "      <th>count</th>\n",
       "    </tr>\n",
       "  </thead>\n",
       "  <tbody>\n",
       "    <tr>\n",
       "      <th>4</th>\n",
       "      <td>0</td>\n",
       "      <td>romance</td>\n",
       "      <td>28</td>\n",
       "    </tr>\n",
       "    <tr>\n",
       "      <th>2</th>\n",
       "      <td>0</td>\n",
       "      <td>hobbies</td>\n",
       "      <td>11</td>\n",
       "    </tr>\n",
       "    <tr>\n",
       "      <th>3</th>\n",
       "      <td>0</td>\n",
       "      <td>news</td>\n",
       "      <td>4</td>\n",
       "    </tr>\n",
       "    <tr>\n",
       "      <th>0</th>\n",
       "      <td>0</td>\n",
       "      <td>editorial</td>\n",
       "      <td>3</td>\n",
       "    </tr>\n",
       "    <tr>\n",
       "      <th>1</th>\n",
       "      <td>0</td>\n",
       "      <td>government</td>\n",
       "      <td>1</td>\n",
       "    </tr>\n",
       "    <tr>\n",
       "      <th>6</th>\n",
       "      <td>1</td>\n",
       "      <td>government</td>\n",
       "      <td>12</td>\n",
       "    </tr>\n",
       "    <tr>\n",
       "      <th>7</th>\n",
       "      <td>1</td>\n",
       "      <td>hobbies</td>\n",
       "      <td>9</td>\n",
       "    </tr>\n",
       "    <tr>\n",
       "      <th>8</th>\n",
       "      <td>1</td>\n",
       "      <td>news</td>\n",
       "      <td>3</td>\n",
       "    </tr>\n",
       "    <tr>\n",
       "      <th>5</th>\n",
       "      <td>1</td>\n",
       "      <td>editorial</td>\n",
       "      <td>1</td>\n",
       "    </tr>\n",
       "    <tr>\n",
       "      <th>12</th>\n",
       "      <td>2</td>\n",
       "      <td>news</td>\n",
       "      <td>32</td>\n",
       "    </tr>\n",
       "    <tr>\n",
       "      <th>9</th>\n",
       "      <td>2</td>\n",
       "      <td>editorial</td>\n",
       "      <td>21</td>\n",
       "    </tr>\n",
       "    <tr>\n",
       "      <th>10</th>\n",
       "      <td>2</td>\n",
       "      <td>government</td>\n",
       "      <td>3</td>\n",
       "    </tr>\n",
       "    <tr>\n",
       "      <th>11</th>\n",
       "      <td>2</td>\n",
       "      <td>hobbies</td>\n",
       "      <td>2</td>\n",
       "    </tr>\n",
       "    <tr>\n",
       "      <th>13</th>\n",
       "      <td>2</td>\n",
       "      <td>romance</td>\n",
       "      <td>1</td>\n",
       "    </tr>\n",
       "    <tr>\n",
       "      <th>16</th>\n",
       "      <td>3</td>\n",
       "      <td>hobbies</td>\n",
       "      <td>8</td>\n",
       "    </tr>\n",
       "    <tr>\n",
       "      <th>15</th>\n",
       "      <td>3</td>\n",
       "      <td>government</td>\n",
       "      <td>4</td>\n",
       "    </tr>\n",
       "    <tr>\n",
       "      <th>17</th>\n",
       "      <td>3</td>\n",
       "      <td>news</td>\n",
       "      <td>3</td>\n",
       "    </tr>\n",
       "    <tr>\n",
       "      <th>14</th>\n",
       "      <td>3</td>\n",
       "      <td>editorial</td>\n",
       "      <td>2</td>\n",
       "    </tr>\n",
       "    <tr>\n",
       "      <th>18</th>\n",
       "      <td>4</td>\n",
       "      <td>government</td>\n",
       "      <td>10</td>\n",
       "    </tr>\n",
       "    <tr>\n",
       "      <th>19</th>\n",
       "      <td>4</td>\n",
       "      <td>hobbies</td>\n",
       "      <td>6</td>\n",
       "    </tr>\n",
       "    <tr>\n",
       "      <th>20</th>\n",
       "      <td>4</td>\n",
       "      <td>news</td>\n",
       "      <td>2</td>\n",
       "    </tr>\n",
       "  </tbody>\n",
       "</table>\n",
       "</div>"
      ],
      "text/plain": [
       "    lda_cat    category  count\n",
       "4         0     romance     28\n",
       "2         0     hobbies     11\n",
       "3         0        news      4\n",
       "0         0   editorial      3\n",
       "1         0  government      1\n",
       "6         1  government     12\n",
       "7         1     hobbies      9\n",
       "8         1        news      3\n",
       "5         1   editorial      1\n",
       "12        2        news     32\n",
       "9         2   editorial     21\n",
       "10        2  government      3\n",
       "11        2     hobbies      2\n",
       "13        2     romance      1\n",
       "16        3     hobbies      8\n",
       "15        3  government      4\n",
       "17        3        news      3\n",
       "14        3   editorial      2\n",
       "18        4  government     10\n",
       "19        4     hobbies      6\n",
       "20        4        news      2"
      ]
     },
     "execution_count": 17,
     "metadata": {},
     "output_type": "execute_result"
    }
   ],
   "source": [
    "# Get topic from W matrix for each text\n",
    "df['lda_cat'] = W_lda_matrix.argmax(axis=1)\n",
    "\n",
    "# Count categories by each LDA assigned topic\n",
    "lda_comparison = df.groupby(['lda_cat', 'category']).size().reset_index(name='count')\n",
    "lda_comparison_sort = lda_comparison.sort_values(by=['lda_cat', 'count'], ascending=[True, False])\n",
    "lda_comparison_sort"
   ]
  },
  {
   "cell_type": "markdown",
   "id": "5167a7ae",
   "metadata": {},
   "source": [
    "Q: Repeat the tallying of Brown categories within your topics. How does your five-topic LDA model compare to the original Brown categories? \n",
    "\n",
    "A: <!-- Your answer here --> "
   ]
  },
  {
   "cell_type": "code",
   "execution_count": 18,
   "id": "6aae75ca",
   "metadata": {},
   "outputs": [],
   "source": [
    "lda_display = pyLDAvis.lda_model.prepare(lda_text_model, count_text_vectors, count_text_vectorizer, sort_topics=False)"
   ]
  },
  {
   "cell_type": "code",
   "execution_count": 19,
   "id": "2a89fc15",
   "metadata": {},
   "outputs": [
    {
     "data": {
      "text/html": [
       "\n",
       "<link rel=\"stylesheet\" type=\"text/css\" href=\"https://cdn.jsdelivr.net/gh/bmabey/pyLDAvis@3.4.0/pyLDAvis/js/ldavis.v1.0.0.css\">\n",
       "\n",
       "\n",
       "<div id=\"ldavis_el64364108232426249823871581\" style=\"background-color:white;\"></div>\n",
       "<script type=\"text/javascript\">\n",
       "\n",
       "var ldavis_el64364108232426249823871581_data = {\"mdsDat\": {\"x\": [-0.24352303362204142, 0.1305571939552595, -0.05665667547392727, 0.04142748483975026, 0.12819503030095905], \"y\": [0.006829720679474543, -0.0558847447016454, 0.03852366287446607, -0.11285215230955935, 0.12338351345726413], \"topics\": [1, 2, 3, 4, 5], \"cluster\": [1, 1, 1, 1, 1], \"Freq\": [22.896957296534556, 20.431968542841656, 32.00626407252673, 12.368825612932152, 12.295984475164914]}, \"tinfo\": {\"Term\": [\"states\", \"state\", \"said\", \"mrs\", \"united\", \"shall\", \"development\", \"tax\", \"feed\", \"fiscal\", \"college\", \"government\", \"ll\", \"don\", \"000\", \"university\", \"department\", \"didn\", \"sales\", \"president\", \"rhode\", \"got\", \"equipment\", \"little\", \"mother\", \"class\", \"act\", \"program\", \"system\", \"property\", \"hair\", \"baby\", \"clothes\", \"walls\", \"anne\", \"fig\", \"pale\", \"pink\", \"dry\", \"yellow\", \"entrance\", \"hadn\", \"ham\", \"couldn\", \"frames\", \"fingers\", \"flowers\", \"windows\", \"bride\", \"hell\", \"handsome\", \"coat\", \"cloth\", \"sweet\", \"stared\", \"liked\", \"colored\", \"studio\", \"bed\", \"trees\", \"shelter\", \"mother\", \"looked\", \"clay\", \"wasn\", \"guests\", \"didn\", \"woman\", \"sat\", \"pieces\", \"colors\", \"eyes\", \"drill\", \"mrs\", \"ll\", \"don\", \"thought\", \"room\", \"sun\", \"inch\", \"ve\", \"black\", \"little\", \"knew\", \"went\", \"sure\", \"got\", \"door\", \"look\", \"son\", \"know\", \"said\", \"way\", \"come\", \"came\", \"good\", \"place\", \"away\", \"old\", \"water\", \"right\", \"man\", \"let\", \"life\", \"left\", \"house\", \"day\", \"home\", \"systems\", \"marketing\", \"electronic\", \"boats\", \"missiles\", \"components\", \"aircraft\", \"machine\", \"rhode\", \"assessment\", \"shipments\", \"laboratory\", \"bankers\", \"savings\", \"yield\", \"industrial\", \"forests\", \"compared\", \"machines\", \"procurement\", \"missile\", \"conservation\", \"utility\", \"inventories\", \"polaris\", \"manufacturing\", \"machinery\", \"investment\", \"recreation\", \"banks\", \"property\", \"industry\", \"equipment\", \"sales\", \"radiation\", \"planning\", \"development\", \"medical\", \"providence\", \"billion\", \"system\", \"shares\", \"manufacturers\", \"island\", \"1960\", \"production\", \"1959\", \"products\", \"research\", \"co\", \"range\", \"000\", \"program\", \"business\", \"cost\", \"million\", \"available\", \"state\", \"small\", \"company\", \"national\", \"1961\", \"provide\", \"areas\", \"service\", \"use\", \"military\", \"tax\", \"public\", \"khrushchev\", \"player\", \"rayburn\", \"congo\", \"republican\", \"moscow\", \"southern\", \"baseball\", \"railroad\", \"castro\", \"troops\", \"yards\", \"charter\", \"yankees\", \"premier\", \"alexander\", \"democrats\", \"captain\", \"chinese\", \"coach\", \"laos\", \"gen\", \"cuban\", \"opposition\", \"soviet\", \"katanga\", \"republicans\", \"pope\", \"bombs\", \"robinson\", \"berlin\", \"speaker\", \"communist\", \"democratic\", \"eisenhower\", \"league\", \"mayor\", \"cuba\", \"st\", \"police\", \"yesterday\", \"china\", \"west\", \"monday\", \"race\", \"john\", \"east\", \"kennedy\", \"city\", \"mr\", \"meeting\", \"party\", \"president\", \"said\", \"week\", \"war\", \"political\", \"nations\", \"game\", \"committee\", \"leaders\", \"american\", \"world\", \"york\", \"home\", \"county\", \"man\", \"united\", \"people\", \"house\", \"state\", \"day\", \"old\", \"000\", \"government\", \"men\", \"national\", \"states\", \"school\", \"academic\", \"faculty\", \"trustees\", \"campus\", \"recognition\", \"classical\", \"professors\", \"mathematics\", \"musical\", \"tends\", \"feed\", \"stockholders\", \"fulfill\", \"meat\", \"unions\", \"chemical\", \"motors\", \"prosperity\", \"cattle\", \"prestige\", \"designer\", \"curriculum\", \"clerical\", \"catholic\", \"collective\", \"recorded\", \"appearances\", \"creative\", \"membership\", \"trust\", \"music\", \"chamber\", \"students\", \"student\", \"colleges\", \"teachers\", \"college\", \"engineer\", \"interior\", \"university\", \"daily\", \"pool\", \"schools\", \"education\", \"art\", \"general\", \"anti\", \"members\", \"technical\", \"labor\", \"design\", \"administration\", \"level\", \"work\", \"school\", \"president\", \"problem\", \"board\", \"department\", \"american\", \"good\", \"men\", \"aid\", \"world\", \"high\", \"cousin\", \"rehabilitation\", \"coal\", \"vocational\", \"definition\", \"denied\", \"thereof\", \"bonds\", \"payment\", \"rico\", \"puerto\", \"coordination\", \"filing\", \"adopting\", \"recommendation\", \"calendar\", \"hated\", \"proceedings\", \"commodities\", \"sectors\", \"connections\", \"62\", \"vehicles\", \"allocation\", \"treasury\", \"tractor\", \"adjustments\", \"upstairs\", \"shall\", \"assigned\", \"india\", \"exercise\", \"interference\", \"payments\", \"fiscal\", \"authorized\", \"claim\", \"stations\", \"insurance\", \"claims\", \"class\", \"states\", \"income\", \"return\", \"tax\", \"united\", \"junior\", \"hearing\", \"act\", \"countries\", \"cars\", \"state\", \"agreement\", \"department\", \"government\", \"secretary\", \"officer\", \"section\", \"title\", \"federal\", \"use\", \"service\", \"30\", \"board\", \"services\", \"pay\", \"local\", \"day\"], \"Freq\": [328.0, 485.0, 803.0, 307.0, 298.0, 123.0, 199.0, 172.0, 93.0, 107.0, 120.0, 273.0, 167.0, 178.0, 282.0, 122.0, 153.0, 124.0, 117.0, 297.0, 86.0, 147.0, 105.0, 237.0, 97.0, 97.0, 127.0, 230.0, 142.0, 95.0, 35.26603169767952, 35.25985457287088, 32.34282391715051, 32.33880808918397, 34.23407300433105, 31.327619231629455, 26.498517625454525, 25.524771041025037, 23.573236778164134, 25.427138253320596, 21.619428115149073, 30.993044678951495, 19.675700186736588, 51.4398170723851, 20.589733305570014, 17.726312752092994, 23.30504081082289, 16.75197331091851, 17.677966184967985, 15.781789493525494, 15.780666162782111, 15.765038139000263, 14.807347406646542, 14.806857679256796, 14.80652524389839, 14.805562659021444, 15.721341674975104, 14.793031300690549, 34.14874849426124, 27.742455010304532, 57.204169859252595, 90.05985801714515, 78.9338778496886, 75.71076669182492, 53.90723878296301, 29.98283937143007, 108.73073941993064, 50.250850745194846, 34.93419186644637, 48.29752376267055, 27.141746207592863, 83.99183249657645, 31.32831148326813, 234.33243224195567, 134.7368238882846, 142.22532063652005, 113.4899868710494, 84.70739288661444, 47.85107317359351, 58.28164360651539, 69.82209572678234, 54.44733492420307, 159.9387345606829, 71.32903793545307, 100.47914727932299, 70.80739412891539, 101.54763550743208, 56.564345442016176, 89.14937958191952, 57.942787656314884, 112.80221967394951, 300.19157995270194, 143.0821472058166, 108.66785528409234, 97.93192846288203, 146.7201649075115, 107.63695959300982, 81.8385782657968, 125.3325275357802, 93.65427756652946, 105.80662989454626, 122.43392673750769, 76.3788274785798, 81.8560900906337, 81.25833894745298, 87.71132897871959, 85.95109916972238, 84.11085690371279, 37.620339176968756, 41.260430437148095, 26.10850412689407, 38.01490066718649, 22.240995977940393, 21.22351437468653, 54.24848359225261, 50.39470006191905, 82.33814930496453, 17.226327234066886, 13.59950271707888, 16.290888590985364, 10.74063215723177, 17.005387252552115, 15.133342494227191, 72.03843499105984, 14.938223060271936, 24.574363297207928, 28.908173871233377, 17.448867762039544, 36.584742597938245, 7.854789008100234, 11.322258118599553, 6.91096313190575, 6.906977941612566, 18.167211407818037, 30.17941537930653, 24.918058009903724, 32.62393120086381, 16.267831354180643, 85.04409531611321, 85.23076408361686, 92.04061867537706, 102.21030740338082, 31.419941862258334, 72.29354736159578, 160.58456695669295, 84.12221117793975, 39.27101304252754, 47.15352590830203, 110.99031567699458, 32.52656888050927, 35.56961213374261, 88.5138715566947, 93.2095888709791, 63.84974612826214, 50.27196273949959, 49.69605754659299, 72.63469421541024, 46.82621040883023, 53.984967876890686, 144.62866634727155, 123.5089684565515, 113.19861054790776, 73.61038906890595, 79.16133829903036, 74.66204969189855, 169.46520342295912, 100.4296096564495, 76.12853270707166, 92.20105914345173, 67.1606189347009, 66.50125650021145, 62.631295228027106, 86.66947068147948, 95.41631280398066, 65.25389352558278, 67.84173831149262, 65.61364145319274, 73.42554374783123, 48.677684982965935, 46.706427838363254, 43.73337493489187, 39.77817876808445, 37.80010747839432, 34.82722841019423, 39.618770244775064, 32.84180904847268, 29.881397928372554, 26.912817657012955, 26.899591011392985, 27.860295497571617, 25.925615833025613, 24.93520264611284, 24.927860722599334, 23.94619677327183, 23.93872466553853, 22.949710429481556, 22.940661109611234, 49.6147819437241, 21.95531968014697, 20.974708622899158, 20.95696065584776, 78.9274395697848, 19.98234147220937, 19.97284168478858, 19.967439518925545, 18.996535964167762, 18.994551077568076, 63.22425972645919, 40.66068656369504, 70.96278176057118, 59.00465760184122, 38.64663320997924, 57.991204762006745, 43.21771150153889, 36.74625566194078, 71.47530467432682, 44.37915026504115, 58.02965358273085, 32.82823725515494, 96.0841853883144, 58.465154170308516, 40.50565929609295, 142.98368478351742, 83.8542012142747, 111.14875577393451, 172.62353200026376, 287.87814236030096, 84.1321370261442, 92.01772270153523, 205.4063487373473, 470.89022085822415, 140.76265143255972, 113.01139950261604, 71.05038233620009, 67.1651888988565, 73.87620209973925, 83.76171945290712, 50.002467140636696, 148.64615016805473, 138.1358696255808, 96.83009236355021, 140.0240462072748, 76.83350051553286, 129.58037547484693, 125.62152536157606, 118.36210204722775, 110.56501449328083, 148.8451794619124, 119.60071243642444, 108.76991140081093, 105.30536803757745, 99.52164947706393, 90.46561781119019, 91.5784925449436, 96.15786407278634, 83.8443699495061, 27.81482656930281, 48.93684709004377, 18.50350998538601, 14.879468477087597, 15.473941152164311, 9.373352607053885, 8.429864173735881, 7.546272419664465, 18.414920463159195, 7.518959799427078, 84.4415543610451, 18.26848656833325, 6.622128289059273, 19.541713824662644, 18.587130254335946, 23.146111999202674, 38.25197181315958, 4.773288678682483, 17.3815667369205, 10.238816773832243, 14.802706325018907, 7.011676741661573, 4.663272913791576, 25.479595882436207, 10.014582060857462, 7.582398158918803, 4.540015041329114, 12.85364925407368, 19.425628383036702, 29.70697872347505, 46.82501087835106, 21.45040054139252, 52.99436840196001, 54.95528137360996, 16.311008295186618, 25.620730698223706, 83.62014229714124, 24.941675902345914, 28.633459492336513, 67.01241734256408, 33.331261741900036, 43.62737654411658, 49.32037920830948, 46.41828570416014, 34.8561960319651, 67.6689962592208, 32.10381351159184, 51.62302814445673, 31.17793699600295, 33.89549304217492, 35.040820639017696, 44.49327955892582, 35.228834426741685, 56.48861252778359, 47.16711951156696, 55.68778966133666, 39.64150536052199, 42.71566054538902, 38.01482404768321, 43.01510978367259, 42.902561785702815, 38.25715440917945, 34.068781601686, 37.62879650451431, 34.84607073269777, 24.895381739117973, 17.608710471055954, 22.617152720693557, 12.988354717680922, 12.08165117895219, 17.255761258059426, 11.043916669732571, 28.504391307942257, 36.751871727233656, 17.292619041590758, 17.289973715259798, 6.586201822372043, 15.531276371536139, 5.6697498607222006, 16.06995842193479, 20.125736782358228, 5.626627615289114, 6.416436823858579, 14.34317148979432, 4.761534756745246, 5.547238482984869, 5.532508833757217, 35.56950814402429, 10.223530392476142, 22.866566967658574, 19.49937341173731, 10.913572827235205, 5.43040833363436, 101.16733937850354, 9.14162814612721, 29.60437781154312, 21.945570724591946, 28.494458626329344, 31.902747941397475, 82.2435050790098, 23.619992267391243, 32.823688144756176, 43.57399739685021, 25.757310222259832, 22.21335819721867, 63.52515544416788, 175.30239292056802, 50.039862686245165, 41.161012434359904, 86.65875331991913, 128.3923792638747, 39.91034171743864, 33.815786827704876, 65.01077528351274, 47.42060534620221, 40.20927959281349, 156.29426259717152, 38.83917469224607, 66.04762002987167, 93.49618556474711, 54.839090750252275, 32.98378789632155, 41.664568001741905, 29.989970407909535, 43.233051375569055, 57.37752089386291, 52.70114914664685, 42.22418118531067, 42.52715360133011, 36.82910800278649, 37.09681062937637, 36.74442128742006, 37.176157676026705], \"Total\": [328.0, 485.0, 803.0, 307.0, 298.0, 123.0, 199.0, 172.0, 93.0, 107.0, 120.0, 273.0, 167.0, 178.0, 282.0, 122.0, 153.0, 124.0, 117.0, 297.0, 86.0, 147.0, 105.0, 237.0, 97.0, 97.0, 127.0, 230.0, 142.0, 95.0, 36.02603912499987, 36.025888838190376, 33.10322172299767, 33.103199451516225, 35.05056255948613, 32.12853787483272, 27.257595896582252, 26.283381057698225, 24.334723323645942, 26.284575607309378, 22.386171312703574, 32.13491772930474, 20.43764235373044, 53.48541765786138, 21.41300921211939, 18.488977697815805, 24.31987835813566, 17.514841028502058, 18.489977886518655, 16.54070720566732, 16.54068383919486, 16.540152118252493, 15.566432075823181, 15.566368553159586, 15.5664393858941, 15.566408536159072, 16.54112310277152, 15.566128130021568, 35.96189057796927, 29.21687336390237, 60.42030248595262, 97.50813665440428, 85.71452146351683, 82.76557482881317, 58.48806964583606, 32.15043643449324, 124.77305109139078, 55.495934070275936, 37.896391840765304, 53.4487537856689, 29.18685535443567, 98.42108266493301, 34.108659255171276, 307.99715835781427, 167.83422712513706, 178.18542278378135, 139.8217103611609, 103.426744421906, 54.56223811623201, 68.76954856434935, 84.83647160041042, 64.26201397041541, 237.7527797142565, 90.51973633420374, 137.70593095628735, 91.77444009129975, 147.7937685617617, 70.06214294099416, 129.86657516906672, 73.99592681862177, 191.48072080434156, 803.8548070648295, 274.8542726057725, 186.07372334983498, 163.15899799670473, 306.43403590768946, 190.15544412730657, 123.89985251249689, 254.84946828941247, 162.71698521260242, 213.57338284403224, 283.01536045192046, 121.9563692552674, 161.53017716157913, 163.20991301290178, 234.12184367687402, 302.3464743334503, 268.51376419796026, 38.389001812768804, 42.21975114655714, 26.870239511488464, 39.32530511253744, 23.031355908186335, 22.069023878838728, 56.67664066614089, 52.835411858251284, 86.46800449904781, 18.221477632163257, 14.390064081926605, 17.262361508112313, 11.511442662430952, 18.237457198455743, 16.292903446551122, 78.46760127905361, 16.28419722696019, 26.80226895725756, 31.64526338081063, 19.147274411366556, 40.18955772227327, 8.631750433563733, 12.458169098970625, 7.671836647717198, 7.671950307157873, 20.188446423100256, 33.582287155475115, 27.758165731678762, 36.4464844927757, 18.179838892874375, 95.59958109020076, 96.9321239216039, 105.65758026062842, 117.78573708942223, 35.55944348942248, 85.01192732215905, 199.0011368393308, 101.02292341395619, 45.1438148835943, 54.90118963074972, 142.66262791524, 37.275769525790736, 41.99097586369719, 120.33277045687879, 129.77818451581405, 84.83256378608138, 63.72708403807195, 62.8441872366801, 102.98876739202454, 59.708950181379926, 72.90815716855994, 282.9442741244361, 230.32157269786674, 209.3237474816217, 115.9403377508097, 128.9930469541294, 119.71572579817426, 485.5254739281197, 211.37539248235055, 138.53740854960466, 215.73422314818578, 114.91801537520546, 112.9357554678229, 99.90679935398612, 203.57909034218508, 253.44869724604663, 123.30539886857119, 172.80964183116564, 200.80538207395293, 74.18132611605125, 49.44169052826692, 47.46260119923943, 44.493590360104946, 40.53551399617136, 38.55638985076476, 35.587527828435476, 40.52408901130404, 33.60786999510344, 30.639652232810224, 27.67089434123131, 27.67080987821844, 28.659135933770305, 26.68148137168695, 25.691806203590627, 25.69167832547869, 24.70228207475656, 24.70215427298779, 23.712487033002034, 23.711939322752958, 51.34436129166909, 22.72241627183324, 21.73341108202848, 21.732251919217532, 81.93116365784134, 20.74359979320197, 20.742911377657393, 20.743329613458652, 19.75425783489286, 19.754312772549575, 66.10674015267462, 42.436983762163, 74.99667222533027, 62.13038324129464, 40.45277924173403, 61.20732427285942, 45.37927277280927, 38.479585522126285, 78.03996648950977, 47.29725623534731, 63.027230870364626, 34.52865293710651, 108.3411986273915, 64.00922906655559, 43.34070314169639, 171.4081764578152, 96.50766365165023, 132.0418807915384, 217.90548917781646, 392.8566393536835, 99.38191347480661, 110.41190710132182, 297.0893859119429, 803.8548070648295, 190.95279899715106, 148.12895827305638, 84.33186741272112, 80.65436811910888, 91.54281280787268, 111.05863796939238, 55.265203097107104, 262.8761488078902, 256.0899824588552, 148.46972078147334, 268.51376419796026, 105.84498183835268, 283.01536045192046, 298.7240339741693, 265.61772341053455, 234.12184367687402, 485.5254739281197, 302.3464743334503, 254.84946828941247, 282.9442741244361, 273.1049196397214, 193.4951872205605, 215.73422314818578, 328.0876630034329, 171.68266645156035, 28.58767119100292, 50.75235104005471, 19.380805810594012, 15.69330433375891, 16.63341486307523, 10.1656315881352, 9.245712123820637, 8.322226888959063, 20.348539793129653, 8.322341294361467, 93.5291213420091, 20.350673528278303, 7.401195317063847, 22.202972880525145, 21.263556998272602, 26.864176614307794, 44.46685073473469, 5.559156794388779, 20.429848324794346, 12.080566726948913, 17.616166085442227, 8.34457166407933, 5.5636145258569005, 30.74006234011113, 12.097121988775983, 9.309062259927515, 5.575810965371212, 15.790102910241034, 24.236359627179482, 37.14065807513559, 59.642613248128555, 27.08108297787438, 68.97438698866306, 71.68275492289166, 20.46714171356445, 33.3476013502525, 120.99975166695654, 32.58028930812077, 39.896080519574895, 122.31078776847798, 52.49852760150623, 75.2321283027009, 89.45812584148688, 84.56146294600374, 57.493258352735786, 198.0062127777887, 57.79720640203343, 140.21994582812474, 57.24356765830152, 68.34216300022534, 74.72871037779433, 131.4090715711945, 82.98496450235838, 256.9778623927558, 171.68266645156035, 297.0893859119429, 117.36282478725465, 173.02514764709474, 153.0306200256716, 262.8761488078902, 306.43403590768946, 193.4951872205605, 99.64739691842242, 256.0899824588552, 217.96093203160194, 25.71990035695816, 18.37920616005881, 23.884995096222223, 13.795801363596595, 12.87739387343771, 18.395872134442165, 11.965555537317131, 31.301788527830126, 40.525553449448225, 19.305747619464796, 19.30538173564201, 7.373665018594356, 17.516110794478664, 6.456504867903874, 18.386543136832003, 23.07591468933516, 6.459370956327421, 7.374057915469406, 16.593451639249768, 5.53881899517158, 6.46221952624137, 6.457204216744051, 41.5824484408158, 11.963052970316346, 26.870254060738834, 23.091351462145617, 12.931560935207873, 6.471692815484704, 123.04949327572993, 11.129093826135744, 36.08726596770422, 26.774612595552853, 35.191972553443755, 39.79154818535332, 107.5155592847496, 29.573704296915594, 42.54665994150673, 57.80855935459402, 33.29164203718924, 28.658975142612622, 97.16968285832584, 328.0876630034329, 79.94285226747932, 64.56516799991915, 172.80964183116564, 298.7240339741693, 62.79076549191274, 50.55168073966496, 127.86759220361674, 82.87435176840478, 65.84647973719714, 485.5254739281197, 64.87874739797843, 153.0306200256716, 273.1049196397214, 119.84296064796649, 52.256274530525005, 81.49566812100724, 44.5806430042561, 112.63804601931176, 253.44869724604663, 203.57909034218508, 114.38793137157596, 173.02514764709474, 93.3865762453041, 103.89058589990495, 128.42114372832097, 302.3464743334503], \"Category\": [\"Default\", \"Default\", \"Default\", \"Default\", \"Default\", \"Default\", \"Default\", \"Default\", \"Default\", \"Default\", \"Default\", \"Default\", \"Default\", \"Default\", \"Default\", \"Default\", \"Default\", \"Default\", \"Default\", \"Default\", \"Default\", \"Default\", \"Default\", \"Default\", \"Default\", \"Default\", \"Default\", \"Default\", \"Default\", \"Default\", \"Topic1\", \"Topic1\", \"Topic1\", \"Topic1\", \"Topic1\", \"Topic1\", \"Topic1\", \"Topic1\", \"Topic1\", \"Topic1\", \"Topic1\", \"Topic1\", \"Topic1\", \"Topic1\", \"Topic1\", \"Topic1\", \"Topic1\", \"Topic1\", \"Topic1\", \"Topic1\", \"Topic1\", \"Topic1\", \"Topic1\", \"Topic1\", \"Topic1\", \"Topic1\", \"Topic1\", \"Topic1\", \"Topic1\", \"Topic1\", \"Topic1\", \"Topic1\", \"Topic1\", \"Topic1\", \"Topic1\", \"Topic1\", \"Topic1\", \"Topic1\", \"Topic1\", \"Topic1\", \"Topic1\", \"Topic1\", \"Topic1\", \"Topic1\", \"Topic1\", \"Topic1\", \"Topic1\", \"Topic1\", \"Topic1\", \"Topic1\", \"Topic1\", \"Topic1\", \"Topic1\", \"Topic1\", \"Topic1\", \"Topic1\", \"Topic1\", \"Topic1\", \"Topic1\", \"Topic1\", \"Topic1\", \"Topic1\", \"Topic1\", \"Topic1\", \"Topic1\", \"Topic1\", \"Topic1\", \"Topic1\", \"Topic1\", \"Topic1\", \"Topic1\", \"Topic1\", \"Topic1\", \"Topic1\", \"Topic1\", \"Topic1\", \"Topic1\", \"Topic1\", \"Topic2\", \"Topic2\", \"Topic2\", \"Topic2\", \"Topic2\", \"Topic2\", \"Topic2\", \"Topic2\", \"Topic2\", \"Topic2\", \"Topic2\", \"Topic2\", \"Topic2\", \"Topic2\", \"Topic2\", \"Topic2\", \"Topic2\", \"Topic2\", \"Topic2\", \"Topic2\", \"Topic2\", \"Topic2\", \"Topic2\", \"Topic2\", \"Topic2\", \"Topic2\", \"Topic2\", \"Topic2\", \"Topic2\", \"Topic2\", \"Topic2\", \"Topic2\", \"Topic2\", \"Topic2\", \"Topic2\", \"Topic2\", \"Topic2\", \"Topic2\", \"Topic2\", \"Topic2\", \"Topic2\", \"Topic2\", \"Topic2\", \"Topic2\", \"Topic2\", \"Topic2\", \"Topic2\", \"Topic2\", \"Topic2\", \"Topic2\", \"Topic2\", \"Topic2\", \"Topic2\", \"Topic2\", \"Topic2\", \"Topic2\", \"Topic2\", \"Topic2\", \"Topic2\", \"Topic2\", \"Topic2\", \"Topic2\", \"Topic2\", \"Topic2\", \"Topic2\", \"Topic2\", \"Topic2\", \"Topic2\", \"Topic2\", \"Topic3\", \"Topic3\", \"Topic3\", \"Topic3\", \"Topic3\", \"Topic3\", \"Topic3\", \"Topic3\", \"Topic3\", \"Topic3\", \"Topic3\", \"Topic3\", \"Topic3\", \"Topic3\", \"Topic3\", \"Topic3\", \"Topic3\", \"Topic3\", \"Topic3\", \"Topic3\", \"Topic3\", \"Topic3\", \"Topic3\", \"Topic3\", \"Topic3\", \"Topic3\", \"Topic3\", \"Topic3\", \"Topic3\", \"Topic3\", \"Topic3\", \"Topic3\", \"Topic3\", \"Topic3\", \"Topic3\", \"Topic3\", \"Topic3\", \"Topic3\", \"Topic3\", \"Topic3\", \"Topic3\", \"Topic3\", \"Topic3\", \"Topic3\", \"Topic3\", \"Topic3\", \"Topic3\", \"Topic3\", \"Topic3\", \"Topic3\", \"Topic3\", \"Topic3\", \"Topic3\", \"Topic3\", \"Topic3\", \"Topic3\", \"Topic3\", \"Topic3\", \"Topic3\", \"Topic3\", \"Topic3\", \"Topic3\", \"Topic3\", \"Topic3\", \"Topic3\", \"Topic3\", \"Topic3\", \"Topic3\", \"Topic3\", \"Topic3\", \"Topic3\", \"Topic3\", \"Topic3\", \"Topic3\", \"Topic3\", \"Topic3\", \"Topic3\", \"Topic3\", \"Topic3\", \"Topic4\", \"Topic4\", \"Topic4\", \"Topic4\", \"Topic4\", \"Topic4\", \"Topic4\", \"Topic4\", \"Topic4\", \"Topic4\", \"Topic4\", \"Topic4\", \"Topic4\", \"Topic4\", \"Topic4\", \"Topic4\", \"Topic4\", \"Topic4\", \"Topic4\", \"Topic4\", \"Topic4\", \"Topic4\", \"Topic4\", \"Topic4\", \"Topic4\", \"Topic4\", \"Topic4\", \"Topic4\", \"Topic4\", \"Topic4\", \"Topic4\", \"Topic4\", \"Topic4\", \"Topic4\", \"Topic4\", \"Topic4\", \"Topic4\", \"Topic4\", \"Topic4\", \"Topic4\", \"Topic4\", \"Topic4\", \"Topic4\", \"Topic4\", \"Topic4\", \"Topic4\", \"Topic4\", \"Topic4\", \"Topic4\", \"Topic4\", \"Topic4\", \"Topic4\", \"Topic4\", \"Topic4\", \"Topic4\", \"Topic4\", \"Topic4\", \"Topic4\", \"Topic4\", \"Topic4\", \"Topic4\", \"Topic4\", \"Topic4\", \"Topic4\", \"Topic4\", \"Topic5\", \"Topic5\", \"Topic5\", \"Topic5\", \"Topic5\", \"Topic5\", \"Topic5\", \"Topic5\", \"Topic5\", \"Topic5\", \"Topic5\", \"Topic5\", \"Topic5\", \"Topic5\", \"Topic5\", \"Topic5\", \"Topic5\", \"Topic5\", \"Topic5\", \"Topic5\", \"Topic5\", \"Topic5\", \"Topic5\", \"Topic5\", \"Topic5\", \"Topic5\", \"Topic5\", \"Topic5\", \"Topic5\", \"Topic5\", \"Topic5\", \"Topic5\", \"Topic5\", \"Topic5\", \"Topic5\", \"Topic5\", \"Topic5\", \"Topic5\", \"Topic5\", \"Topic5\", \"Topic5\", \"Topic5\", \"Topic5\", \"Topic5\", \"Topic5\", \"Topic5\", \"Topic5\", \"Topic5\", \"Topic5\", \"Topic5\", \"Topic5\", \"Topic5\", \"Topic5\", \"Topic5\", \"Topic5\", \"Topic5\", \"Topic5\", \"Topic5\", \"Topic5\", \"Topic5\", \"Topic5\", \"Topic5\", \"Topic5\", \"Topic5\", \"Topic5\", \"Topic5\", \"Topic5\", \"Topic5\"], \"logprob\": [30.0, 29.0, 28.0, 27.0, 26.0, 25.0, 24.0, 23.0, 22.0, 21.0, 20.0, 19.0, 18.0, 17.0, 16.0, 15.0, 14.0, 13.0, 12.0, 11.0, 10.0, 9.0, 8.0, 7.0, 6.0, 5.0, 4.0, 3.0, 2.0, 1.0, -6.6963, -6.6965, -6.7828, -6.7829, -6.726, -6.8147, -6.9821, -7.0195, -7.0991, -7.0234, -7.1856, -6.8254, -7.2798, -6.3188, -7.2344, -7.3841, -7.1105, -7.4407, -7.3869, -7.5003, -7.5004, -7.5014, -7.5641, -7.5641, -7.5641, -7.5642, -7.5042, -7.565, -6.7285, -6.9362, -6.2126, -5.7587, -5.8906, -5.9323, -6.2719, -6.8586, -5.5703, -6.3422, -6.7057, -6.3818, -6.9581, -5.8285, -6.8147, -4.8025, -5.3559, -5.3018, -5.5275, -5.82, -6.3911, -6.1939, -6.0132, -6.262, -5.1844, -5.9919, -5.6492, -5.9992, -5.6387, -6.2238, -5.7689, -6.1997, -5.5336, -4.5548, -5.2958, -5.5709, -5.6749, -5.2707, -5.5804, -5.8544, -5.4282, -5.7196, -5.5976, -5.4516, -5.9235, -5.8542, -5.8616, -5.7851, -5.8054, -5.8271, -6.5177, -6.4254, -6.883, -6.5073, -7.0434, -7.0902, -6.1517, -6.2254, -5.7345, -7.2989, -7.5353, -7.3547, -7.7713, -7.3118, -7.4284, -5.8681, -7.4414, -6.9436, -6.7812, -7.286, -6.5457, -8.0842, -7.7185, -8.2122, -8.2128, -7.2457, -6.7381, -6.9297, -6.6602, -7.3561, -5.7021, -5.6999, -5.6231, -5.5183, -6.6978, -5.8646, -5.0665, -5.713, -6.4748, -6.2919, -5.4358, -6.6632, -6.5738, -5.6621, -5.6104, -5.9888, -6.2278, -6.2394, -5.8598, -6.2988, -6.1566, -5.1711, -5.329, -5.4161, -5.8465, -5.7738, -5.8323, -5.0126, -5.5358, -5.8129, -5.6213, -5.9382, -5.9481, -6.008, -5.6832, -5.587, -5.967, -5.9281, -5.9615, -6.2979, -6.7089, -6.7502, -6.816, -6.9108, -6.9618, -7.0437, -6.9148, -7.1024, -7.1969, -7.3015, -7.302, -7.2669, -7.3389, -7.3778, -7.3781, -7.4183, -7.4186, -7.4608, -7.4612, -6.6898, -7.5051, -7.5508, -7.5517, -6.2256, -7.5993, -7.5997, -7.6, -7.6499, -7.65, -6.4474, -6.8889, -6.332, -6.5165, -6.9397, -6.5338, -6.8279, -6.9901, -6.3248, -6.8014, -6.5332, -7.1028, -6.0289, -6.5257, -6.8927, -5.6314, -6.165, -5.8833, -5.443, -4.9316, -6.1617, -6.0721, -5.2691, -4.4395, -5.647, -5.8666, -6.3307, -6.387, -6.2917, -6.1661, -6.6821, -5.5926, -5.6659, -6.0212, -5.6523, -6.2525, -5.7298, -5.7608, -5.8204, -5.8885, -5.5912, -5.81, -5.9049, -5.9373, -5.9937, -6.0892, -6.0769, -6.0281, -6.1652, -6.3178, -5.7528, -6.7254, -6.9434, -6.9042, -7.4055, -7.5116, -7.6223, -6.7302, -7.6259, -5.2073, -6.7382, -7.753, -6.6708, -6.7209, -6.5015, -5.9992, -8.0803, -6.788, -7.3172, -6.9486, -7.6958, -8.1037, -6.4055, -7.3393, -7.6175, -8.1304, -7.0897, -6.6768, -6.252, -5.797, -6.5776, -5.6732, -5.6369, -6.8515, -6.4, -5.2171, -6.4268, -6.2888, -5.4385, -6.1369, -5.8677, -5.745, -5.8057, -6.0921, -5.4287, -6.1744, -5.6994, -6.2037, -6.1201, -6.0869, -5.848, -6.0815, -5.6093, -5.7897, -5.6236, -5.9635, -5.8888, -6.0054, -5.8818, -5.8844, -5.999, -6.115, -6.0156, -6.0924, -6.4228, -6.7691, -6.5188, -7.0734, -7.1458, -6.7893, -7.2356, -6.2874, -6.0333, -6.7872, -6.7873, -7.7525, -6.8946, -7.9023, -6.8605, -6.6355, -7.91, -7.7786, -6.9742, -8.0769, -7.9242, -7.9268, -6.066, -7.3128, -6.5078, -6.6671, -7.2475, -7.9454, -5.0207, -7.4246, -6.2495, -6.5489, -6.2878, -6.1748, -5.2278, -6.4754, -6.1463, -5.863, -6.3887, -6.5368, -5.486, -4.471, -5.7246, -5.92, -5.1755, -4.7824, -5.9508, -6.1165, -5.4629, -5.7784, -5.9434, -4.5857, -5.978, -5.4471, -5.0995, -5.6331, -6.1414, -5.9078, -6.2366, -5.8709, -5.5878, -5.6728, -5.8945, -5.8873, -6.0312, -6.0239, -6.0335, -6.0218], \"loglift\": [30.0, 29.0, 28.0, 27.0, 26.0, 25.0, 24.0, 23.0, 22.0, 21.0, 20.0, 19.0, 18.0, 17.0, 16.0, 15.0, 14.0, 13.0, 12.0, 11.0, 10.0, 9.0, 8.0, 7.0, 6.0, 5.0, 4.0, 3.0, 2.0, 1.0, 1.4528, 1.4527, 1.4509, 1.4508, 1.4506, 1.4489, 1.4459, 1.4449, 1.4424, 1.441, 1.4393, 1.438, 1.4362, 1.4352, 1.435, 1.432, 1.4315, 1.4296, 1.4293, 1.4272, 1.4271, 1.4262, 1.4242, 1.4241, 1.4241, 1.4241, 1.4233, 1.4232, 1.4224, 1.4224, 1.4195, 1.3947, 1.3918, 1.3851, 1.3926, 1.4044, 1.3365, 1.3749, 1.3928, 1.3728, 1.4015, 1.3156, 1.3891, 1.2008, 1.2545, 1.2488, 1.2655, 1.2745, 1.3429, 1.3087, 1.2794, 1.3084, 1.0777, 1.2359, 1.159, 1.2148, 1.0989, 1.2602, 1.098, 1.2296, 0.945, 0.4892, 0.8213, 0.9363, 0.9637, 0.7377, 0.9051, 1.0594, 0.7645, 0.9218, 0.7718, 0.6362, 1.0062, 0.7944, 0.7768, 0.4924, 0.2164, 0.3134, 1.5678, 1.5651, 1.5593, 1.5542, 1.5532, 1.549, 1.5443, 1.5408, 1.5391, 1.5319, 1.5316, 1.5301, 1.5188, 1.5181, 1.5142, 1.5026, 1.5018, 1.5013, 1.4976, 1.4952, 1.4941, 1.4937, 1.4925, 1.4836, 1.483, 1.4826, 1.4812, 1.4801, 1.4773, 1.4769, 1.4711, 1.4594, 1.4501, 1.4462, 1.4643, 1.426, 1.3736, 1.405, 1.4487, 1.4359, 1.337, 1.4518, 1.4221, 1.281, 1.2571, 1.3039, 1.3509, 1.3533, 1.2389, 1.345, 1.2876, 0.917, 0.9649, 0.9733, 1.1338, 1.0998, 1.1159, 0.5355, 0.8439, 0.9894, 0.738, 1.0509, 1.0585, 1.1211, 0.7341, 0.6112, 0.9517, 0.6531, 0.4695, 1.129, 1.1237, 1.1232, 1.122, 1.1204, 1.1194, 1.1176, 1.1166, 1.1162, 1.1142, 1.1115, 1.111, 1.111, 1.1105, 1.1093, 1.1091, 1.1082, 1.1078, 1.1065, 1.1062, 1.105, 1.1049, 1.1037, 1.1029, 1.1019, 1.1018, 1.1014, 1.1011, 1.1001, 1.1, 1.0947, 1.0965, 1.084, 1.0876, 1.0936, 1.0853, 1.0904, 1.0931, 1.0514, 1.0756, 1.0566, 1.0887, 1.0192, 1.0486, 1.0716, 0.9579, 0.9987, 0.967, 0.9063, 0.8283, 0.9727, 0.957, 0.7702, 0.6044, 0.8343, 0.8686, 0.9679, 0.9562, 0.9248, 0.8572, 1.0392, 0.5691, 0.5219, 0.7118, 0.4882, 0.8189, 0.358, 0.273, 0.3309, 0.389, -0.0431, 0.2118, 0.2878, 0.1509, 0.1298, 0.379, 0.2824, -0.0881, 0.4226, 2.0626, 2.0536, 2.0437, 2.0367, 2.0177, 2.0088, 1.9976, 1.9921, 1.9901, 1.9885, 1.9878, 1.9821, 1.9788, 1.9623, 1.9555, 1.941, 1.9394, 1.9376, 1.9284, 1.9246, 1.916, 1.916, 1.9135, 1.9023, 1.9011, 1.8848, 1.8845, 1.8842, 1.8687, 1.8667, 1.848, 1.8569, 1.8264, 1.8243, 1.863, 1.8264, 1.7205, 1.8228, 1.7583, 1.4883, 1.6357, 1.5451, 1.4946, 1.4902, 1.5896, 1.0163, 1.502, 1.0907, 1.4824, 1.3887, 1.3326, 1.007, 1.2332, 0.575, 0.798, 0.4157, 1.0046, 0.6911, 0.6973, 0.2799, 0.1239, 0.4691, 1.0167, 0.1722, 0.2566, 2.0633, 2.0531, 2.0414, 2.0356, 2.0321, 2.0319, 2.0157, 2.0023, 1.9982, 1.9858, 1.9856, 1.983, 1.9756, 1.966, 1.9612, 1.9591, 1.9579, 1.9568, 1.9502, 1.9447, 1.9432, 1.9413, 1.9397, 1.9388, 1.9346, 1.9268, 1.9262, 1.9205, 1.9001, 1.8992, 1.8979, 1.897, 1.8848, 1.8749, 1.8279, 1.8711, 1.8364, 1.8132, 1.8393, 1.8411, 1.6709, 1.4691, 1.6274, 1.6457, 1.4057, 1.2515, 1.6427, 1.6938, 1.4195, 1.5376, 1.6027, 0.9624, 1.5828, 1.2556, 1.024, 1.3141, 1.6358, 1.425, 1.6995, 1.1383, 0.6104, 0.7445, 1.0993, 0.6926, 1.1654, 1.0661, 0.8446, -0.0]}, \"token.table\": {\"Topic\": [1, 2, 3, 4, 5, 2, 3, 2, 3, 5, 1, 2, 3, 4, 5, 1, 2, 3, 4, 5, 5, 4, 1, 2, 3, 4, 5, 2, 5, 2, 3, 4, 5, 5, 2, 3, 5, 1, 2, 3, 4, 5, 2, 3, 3, 4, 5, 1, 2, 3, 4, 5, 1, 3, 4, 5, 4, 1, 2, 3, 4, 5, 1, 2, 3, 4, 2, 3, 5, 2, 4, 5, 1, 2, 4, 5, 1, 3, 4, 5, 1, 2, 2, 5, 3, 1, 5, 3, 4, 2, 3, 1, 3, 4, 1, 2, 3, 4, 5, 2, 5, 3, 2, 5, 1, 1, 2, 3, 4, 5, 1, 2, 5, 1, 2, 3, 5, 4, 3, 2, 3, 5, 3, 3, 4, 1, 3, 4, 3, 4, 3, 2, 4, 3, 4, 3, 1, 2, 3, 5, 2, 3, 4, 5, 2, 3, 4, 5, 1, 3, 4, 5, 4, 1, 2, 3, 4, 1, 1, 1, 2, 3, 4, 3, 4, 5, 1, 3, 4, 1, 2, 3, 4, 1, 2, 3, 4, 1, 1, 2, 1, 2, 3, 4, 5, 2, 3, 4, 2, 4, 5, 2, 3, 5, 2, 3, 4, 5, 2, 5, 2, 3, 5, 2, 5, 1, 2, 3, 4, 5, 1, 5, 2, 3, 4, 5, 2, 3, 4, 5, 5, 2, 3, 4, 3, 5, 3, 2, 4, 1, 2, 3, 4, 5, 1, 2, 3, 4, 5, 5, 3, 4, 3, 2, 5, 2, 3, 4, 5, 1, 2, 4, 2, 4, 1, 2, 4, 5, 1, 3, 4, 1, 2, 3, 4, 5, 1, 3, 4, 1, 3, 1, 1, 2, 3, 5, 1, 2, 3, 4, 5, 3, 5, 2, 1, 2, 4, 1, 1, 2, 4, 1, 4, 5, 1, 3, 4, 1, 4, 2, 3, 4, 5, 1, 2, 3, 4, 1, 2, 5, 1, 2, 5, 1, 2, 5, 1, 4, 1, 2, 3, 4, 3, 1, 2, 3, 4, 5, 1, 2, 3, 4, 5, 1, 3, 2, 3, 4, 5, 1, 3, 1, 3, 1, 1, 1, 5, 3, 4, 5, 1, 1, 2, 3, 4, 5, 1, 2, 3, 4, 5, 1, 2, 3, 4, 5, 1, 2, 3, 4, 1, 2, 4, 5, 2, 3, 4, 5, 2, 4, 2, 3, 4, 5, 2, 3, 4, 5, 2, 3, 4, 5, 2, 3, 4, 5, 2, 2, 4, 1, 2, 3, 4, 5, 1, 2, 3, 4, 5, 1, 3, 4, 5, 3, 2, 3, 4, 5, 3, 1, 3, 4, 5, 1, 2, 3, 4, 5, 2, 3, 4, 5, 2, 3, 5, 1, 2, 3, 1, 3, 4, 1, 3, 4, 5, 1, 2, 3, 4, 5, 1, 2, 3, 4, 5, 1, 2, 3, 4, 5, 1, 1, 2, 3, 4, 5, 1, 3, 4, 5, 1, 2, 3, 4, 5, 1, 2, 3, 4, 5, 1, 2, 3, 5, 2, 3, 2, 3, 5, 1, 2, 4, 1, 2, 3, 4, 5, 2, 4, 2, 3, 2, 4, 3, 4, 3, 4, 5, 2, 4, 5, 1, 2, 3, 4, 1, 2, 3, 4, 2, 3, 4, 1, 2, 3, 4, 5, 2, 3, 5, 1, 2, 3, 4, 5, 2, 4, 2, 1, 3, 4, 5, 3, 1, 3, 2, 4, 1, 2, 3, 4, 5, 1, 3, 1, 4, 2, 4, 1, 2, 3, 4, 5, 2, 3, 4, 5, 2, 3, 4, 5, 1, 2, 3, 4, 5, 3, 1, 1, 3, 4, 1, 2, 3, 4, 5, 2, 5, 2, 5, 1, 2, 3, 4, 5, 1, 2, 3, 4, 1, 1, 2, 3, 4, 5, 1, 2, 4, 5, 3, 2, 3, 4, 5, 2, 3, 4, 5, 1, 2, 4, 5, 3, 3, 1, 2, 3, 4, 5, 3, 4, 2, 3, 4, 5, 5, 2, 5, 1, 2, 3, 4, 5, 1, 2, 4, 5, 4, 2, 3, 4, 5, 1, 2, 4, 5, 4, 1, 2, 3, 4, 5, 2, 3, 4, 2, 3, 4, 5, 4, 5, 3, 5, 1, 2, 3, 1, 2, 3, 4, 5, 3, 1, 4, 4, 5, 3, 4, 1, 2, 5, 5, 3, 3, 1, 2, 3, 4, 5, 1, 3, 4, 5, 2, 3, 4, 5, 1, 2, 3, 4, 5, 3, 1, 3, 5, 1, 2, 3, 4, 5, 2, 3, 4, 5, 1, 3, 4, 1, 2, 1, 2, 3, 4, 5, 1, 2, 3, 4, 5, 2, 3, 4, 5, 1, 2, 4, 5, 5, 1, 2, 3, 4, 5, 2, 3, 4, 5, 1, 2, 3, 4, 5, 2, 3, 5, 1, 3, 2, 1, 2, 3, 4, 5, 1, 3, 4, 5, 3, 3, 4, 3, 4, 5, 1, 3, 1, 1, 2, 3, 4, 5, 2, 3, 4, 5, 2, 3, 5, 2, 4, 1, 2, 3, 4, 5, 1, 2, 3, 4, 5, 1, 1, 3, 5, 1, 3, 4, 5, 1, 1, 2, 3, 4, 5, 2, 2, 4, 5, 3, 4, 5, 2, 4, 4, 5, 1, 2, 3, 4, 5, 1, 3, 4, 5, 2, 5, 3, 5, 1, 3, 3, 2, 3, 4, 5, 4, 2, 4, 5, 2, 3, 4, 5, 1, 2, 3, 4, 5, 1, 2, 3, 4, 5, 2, 4, 1, 2, 3, 5, 2, 3, 5, 5, 1, 1, 2, 3, 4, 5, 1, 3, 1, 2, 4, 5, 1, 2, 3, 4, 5, 1, 2, 3, 4, 5, 1, 3, 4, 2, 3, 5, 1, 1, 3, 4, 1, 2, 3, 4, 5, 1, 2, 3, 4, 5, 3, 3, 1, 1, 3, 4, 2, 5, 1, 2, 3, 4, 5], \"Freq\": [0.003534264840999079, 0.5124684019448664, 0.3710978083049033, 0.021205589045994473, 0.09542515070697513, 0.7845957610445334, 0.20399489787157868, 0.7166073431137229, 0.19263638255745238, 0.09246546362757715, 0.008701855812032746, 0.5830243394061939, 0.21754639530081862, 0.052211134872196474, 0.14793154880455667, 0.01748436199535099, 0.17484361995350992, 0.39339814489539726, 0.04371090498837748, 0.3671716019023708, 0.9291947100637635, 0.9794431946877901, 0.015641179798046044, 0.21897651717264463, 0.08602648888925324, 0.17987356767752952, 0.5083383434364964, 0.0773301850418822, 0.8506320354607041, 0.28156351428108395, 0.3120028131222822, 0.33483228725318087, 0.06848842239269609, 0.9292953575899525, 0.15413367860908475, 0.2312005179136271, 0.6011213465754305, 0.010035385077029784, 0.371309247850102, 0.20070770154059567, 0.34120309261901266, 0.07024769553920848, 0.9527734771383524, 0.03528790656067972, 0.9730777290328773, 0.08359070234674021, 0.8359070234674021, 0.03804072771664042, 0.15216291086656167, 0.5668068429779423, 0.16357512918155379, 0.08368960097660892, 0.9700272268753699, 0.39794310887646656, 0.5536599775672578, 0.034603748597953614, 0.8967305439608143, 0.060055972554390616, 0.6305877118211014, 0.18016791766317183, 0.060055972554390616, 0.060055972554390616, 0.20872012378176485, 0.052180030945441214, 0.13914674918784325, 0.6087670276968142, 0.9329649517552193, 0.08985457536997161, 0.8086911783297446, 0.13525529165506608, 0.03381382291376652, 0.8115317499303966, 0.10859057916849098, 0.6264841105874479, 0.10859057916849098, 0.15870930801548683, 0.6618248394745203, 0.2905572465985699, 0.024213103883214158, 0.03228413851095221, 0.9715235662110063, 0.9555709325556466, 0.8800958080146262, 0.055005988000914136, 0.9870672228767968, 0.9454452881525881, 0.027807214357429062, 0.9530041846640819, 0.030254101100447045, 0.856083453129323, 0.1275017908916013, 0.8403097983337438, 0.10892904793215197, 0.031122585123471994, 0.13292865408738863, 0.03467704019671008, 0.3409908952676491, 0.2485187880764222, 0.2485187880764222, 0.9662989235876286, 0.025428919041779702, 0.9618179614138386, 0.0638941125751271, 0.926464632339343, 0.973500353027685, 0.10987764301333926, 0.5398336374133624, 0.12898679832000695, 0.14809595362667463, 0.07165933240000386, 0.043335226943882026, 0.043335226943882026, 0.8667045388776404, 0.6006410998060878, 0.09193486221521752, 0.3003205499030439, 0.006128990814347835, 0.95582164730805, 0.9715751806410015, 0.1214947257914039, 0.2733631330306588, 0.6074736289570195, 0.9791233846928178, 0.16265419193622638, 0.8132709596811319, 0.09789597887384867, 0.048947989436924334, 0.8321158204277137, 0.18463072559118368, 0.7754490474829714, 0.9770008441533781, 0.11167288106653556, 0.8561587548434392, 0.9557279880019957, 0.028961454181878656, 0.9699530870797979, 0.06424803731573572, 0.0871937649284985, 0.7939221754015915, 0.055069746270630625, 0.09401443040415419, 0.047007215202077096, 0.07051082280311564, 0.7756190508342722, 0.10467924917312701, 0.034893083057709, 0.069786166115418, 0.7676478272695981, 0.15436913612108952, 0.1234953088968716, 0.07203893018984177, 0.6586416474499819, 0.8853360385895093, 0.9182561730187141, 0.04832927226414285, 0.024164636132071426, 0.8986963379224959, 0.9636119521118183, 0.9666732823702404, 0.050243723778207405, 0.7871516725252493, 0.13398326340855307, 0.03349581585213827, 0.9699754915419418, 0.0418672893158, 0.9629476542633999, 0.9673429775983486, 0.1653285799594028, 0.826642899797014, 0.18181855497152985, 0.024793439314299528, 0.09917375725719811, 0.6942163008003868, 0.09771760160699501, 0.09771760160699501, 0.048858800803497505, 0.7817408128559601, 0.9672861933612685, 0.9250739647050287, 0.034261998692778836, 0.5857893206934458, 0.05374213951316017, 0.2955817673223809, 0.048367925561844154, 0.01612264185394805, 0.05402551399607109, 0.7563571959449953, 0.18908929898624882, 0.06026473706257853, 0.06026473706257853, 0.8437063188760995, 0.026667849927939816, 0.9467086724418635, 0.026667849927939816, 0.5485882895866893, 0.2021114751108855, 0.15158360633316412, 0.09383747058719684, 0.9327568512900272, 0.07462054810320216, 0.9515599835902221, 0.9889064839202655, 0.9284735647923413, 0.9268108550604948, 0.9493243837830881, 0.07762613232457265, 0.6382593102242641, 0.025875377441524218, 0.04312562906920703, 0.21562814534603514, 0.9535309292383161, 0.018696684887025805, 0.15686397205650485, 0.26546210655716207, 0.012066459388961911, 0.5671235912812098, 0.24564225481853652, 0.7274789854241274, 0.009447779031482174, 0.01889555806296435, 0.9720099865486687, 0.12666161907677334, 0.06333080953838667, 0.8233005239990268, 0.961548818625515, 0.025987805908797703, 0.9662542120396856, 0.11983838598986153, 0.8388687019290307, 0.03809630653227345, 0.05714445979841018, 0.19048153266136725, 0.628589057782512, 0.0761926130645469, 0.284441881419635, 0.09922391212312849, 0.39689564849251396, 0.09591644838569088, 0.12237615828519181, 0.9318655713989213, 0.9496159032346988, 0.048285554401764345, 0.9715701540193232, 0.05436002124235921, 0.9241203611201066, 0.2613855971653896, 0.05881175936221266, 0.24831631730712014, 0.43128623532289284, 0.3345434421872315, 0.18734432762484962, 0.468360819062124, 0.11353208128826478, 0.8514906096619858, 0.010050193841931449, 0.8090406042754816, 0.05527606613062297, 0.12562742302414312, 0.8735860752508351, 0.104189164938173, 0.01602910229818046, 0.7969226538374553, 0.016836394095157504, 0.14030328412631254, 0.016836394095157504, 0.02806065682526251, 0.8135634681914453, 0.12845738971443874, 0.05709217320641721, 0.9088601157871673, 0.058636136502397886, 0.9862450326969325, 0.031085614203952408, 0.07253309980922229, 0.8703971977106674, 0.020723742802634938, 0.011825717828918647, 0.34294581703864074, 0.08278002480243053, 0.5439830201302578, 0.023651435657837293, 0.9640870350822464, 0.024720180386724265, 0.9676132581134459, 0.0613868090944635, 0.15346702273615875, 0.7673351136807938, 0.9827495596585365, 0.10410989890991258, 0.8707373363374507, 0.018929072529075015, 0.07469762607628509, 0.07469762607628509, 0.821673886839136, 0.8534756753893018, 0.12192509648418597, 0.020320849414030995, 0.019703520713962218, 0.9654725149841488, 0.3284858119223443, 0.2219498729205029, 0.07102395933456092, 0.38175378142326494, 0.06415114259503973, 0.010691857099173288, 0.021383714198346577, 0.8981159963305563, 0.964874284686427, 0.05709029885305446, 0.9134447816488713, 0.9735530159748329, 0.23252448451473656, 0.762680309208336, 0.9457284144805714, 0.9211384381396421, 0.061409229209309475, 0.9807122292794963, 0.9457931726056642, 0.07646695338815283, 0.10923850484021833, 0.8083649358176156, 0.010923850484021834, 0.9682068903592463, 0.020201386329675303, 0.22221524962642833, 0.2676683688681978, 0.3434235676044802, 0.15151039747256478, 0.4797117251175142, 0.08158362672066567, 0.21864411961138402, 0.14032383795954498, 0.08158362672066567, 0.6901508838471434, 0.31124451624479016, 0.2050494003325715, 0.36615964345102053, 0.08787831442824492, 0.34052846840944906, 0.9331133050440927, 0.06220755366960618, 0.9646827249142208, 0.03111879757787809, 0.9715195133875303, 0.9785864560032994, 0.9673118811500615, 0.9288830198121021, 0.2769443032388637, 0.05934520783689937, 0.6725790221515262, 0.9673105146627552, 0.21104699622650955, 0.2936306034455785, 0.2569267780148812, 0.16057923625930073, 0.07799562904023179, 0.31283312515060296, 0.08938089290017229, 0.5213885419176716, 0.044690446450086144, 0.033517834837564604, 0.3758726593724173, 0.06834048352225769, 0.4741121044356627, 0.06834048352225769, 0.017085120880564422, 0.8433965499384947, 0.04362395947957731, 0.01454131982652577, 0.08724791895915462, 0.012508935716405493, 0.2626876500445154, 0.08756255001483845, 0.6254467858202747, 0.05542121150961869, 0.08313181726442803, 0.027710605754809346, 0.8313181726442804, 0.9175761566094911, 0.07646467971745759, 0.8769022751296125, 0.061898984126796175, 0.030949492063398087, 0.02063299470893206, 0.12015027662293444, 0.03003756915573361, 0.06007513831146722, 0.7809767980490738, 0.0852467134498953, 0.0852467134498953, 0.0284155711499651, 0.7956359921990228, 0.12532559426600226, 0.025065118853200452, 0.7268884467428132, 0.12532559426600226, 0.912428186552029, 0.900635879245759, 0.07205087033966072, 0.07479259362041488, 0.7396156480241026, 0.13296461088073755, 0.016620576360092194, 0.03324115272018439, 0.12251457564025982, 0.011668054822881887, 0.8342659198360549, 0.023336109645763773, 0.005834027411440943, 0.015925908725046473, 0.27074044832579003, 0.07962954362523236, 0.6370363490018589, 0.9641528085474509, 0.0075733547114400284, 0.8406423729698432, 0.0530134829800802, 0.09845361124872037, 0.984075155057175, 0.7843593328405661, 0.15466240365870318, 0.011047314547050227, 0.04418925818820091, 0.5901377408928047, 0.010444915768014243, 0.2872351836203917, 0.06266949460808546, 0.04700212095606409, 0.14632255639855923, 0.3365418797166862, 0.49749669175510136, 0.014632255639855922, 0.9268720268939405, 0.9738167686217334, 0.019476335372434667, 0.03618913688755975, 0.054283705331339624, 0.9047284221889937, 0.016337913997711225, 0.9475990118672512, 0.016337913997711225, 0.4962933838068827, 0.44114967449500686, 0.049016630499445206, 0.01838123643729195, 0.6231736846882024, 0.0081996537458974, 0.20499134364743501, 0.10659549869666621, 0.057397576221281804, 0.08435262992491928, 0.4097127739210365, 0.03615112711067969, 0.42176314962459643, 0.04820150281423959, 0.5076450818101632, 0.043335555764282226, 0.26620412826630513, 0.1485790483346819, 0.03714476208367048, 0.9636134092945482, 0.672967946756695, 0.008412099334458687, 0.2018903840270085, 0.05047259600675213, 0.0672967946756695, 0.8043651304768967, 0.17874780677264374, 0.005958260225754791, 0.011916520451509581, 0.015573759444403205, 0.4672127833320961, 0.18688511333283844, 0.03893439861100801, 0.2881145497214593, 0.6853187579955459, 0.12320337222391836, 0.10780295069592856, 0.046201264583969386, 0.038501053819974485, 0.9216641317145453, 0.02333326915733026, 0.04666653831466052, 0.01166663457866513, 0.9463350098252621, 0.03785340039301049, 0.8933280768254322, 0.05955520512169549, 0.029777602560847743, 0.03160030580141703, 0.9164088682410938, 0.03160030580141703, 0.4310720089721976, 0.02120026273633759, 0.4593390259539811, 0.08126767382262742, 0.0035333771227229315, 0.8573270627683455, 0.14288784379472425, 0.89159906724689, 0.04953328151371611, 0.9711094662229764, 0.9612811699009847, 0.9475691736022067, 0.044072984818707285, 0.04503901371140836, 0.9007802742281672, 0.04503901371140836, 0.8314944485995295, 0.05939246061425211, 0.09898743435708685, 0.030186579178318018, 0.08049754447551472, 0.8452242169929045, 0.030186579178318018, 0.04992157113354104, 0.07131653019077291, 0.5134790173735649, 0.37084595699201917, 0.041260321904060454, 0.12378096571218136, 0.7839461161771486, 0.17054687754266518, 0.1550426159478774, 0.46512784784363226, 0.19638731353397806, 0.010336174396525162, 0.5271464234042358, 0.4298270836988384, 0.03243977990179912, 0.007752355833222586, 0.6124361108245843, 0.16279947249767432, 0.031009423332890345, 0.18605653999734206, 0.9206371529561371, 0.0746462556450922, 0.9552194880623703, 0.031245494269590994, 0.9061193338181388, 0.015622747134795497, 0.031245494269590994, 0.9855694515768124, 0.9229998960905674, 0.07178888080704413, 0.1349319751873766, 0.8545691761867185, 0.11454560135227118, 0.12981834819924068, 0.7330918486545356, 0.010181831231312994, 0.012727289039141243, 0.7597472692528923, 0.2370151737412869, 0.20119842754167938, 0.7880271745382442, 0.04914357541948211, 0.884584357550678, 0.02317666583926996, 0.4264506514425673, 0.4264506514425673, 0.1112479960284958, 0.013905999503561976, 0.14878301423524418, 0.8307051628134466, 0.01239858451960368, 0.01239858451960368, 0.019136457946611934, 0.21050103741273127, 0.13395520562628355, 0.6315031122381938, 0.4904856221165325, 0.00784776995386452, 0.42770346248561636, 0.051010504700119384, 0.02354330986159356, 0.9663057504606777, 0.9538625526127219, 0.14491190687719271, 0.8332434645438581, 0.01811398835964909, 0.07700408974214207, 0.33689289262187155, 0.12513164583098085, 0.10588062339544535, 0.35614391505740706, 0.07402736655385138, 0.9130041874975003, 0.17591675416581545, 0.8041908761865849, 0.24094777704679973, 0.1468275516378936, 0.444247463930037, 0.12423869753975612, 0.04141289917991871, 0.8980564858907925, 0.018709510122724843, 0.018709510122724843, 0.037419020245449686, 0.9892182418587572, 0.567956392180365, 0.08414168773042444, 0.16828337546084887, 0.07362397676412138, 0.10517710966303054, 0.02352611054706301, 0.8469399796942683, 0.05881527636765752, 0.05881527636765752, 0.9910664355618182, 0.912414668988282, 0.9302865219297197, 0.02114287549840272, 0.02114287549840272, 0.05928956814782652, 0.8419118676991366, 0.04743165451826122, 0.04743165451826122, 0.14621412750335672, 0.02658438681879213, 0.5848565100134269, 0.23925948136912914, 0.9641653665390166, 0.9730728856465553, 0.0134639613183138, 0.067319806591569, 0.6900280175635823, 0.1884954584563932, 0.03702589362536295, 0.08277757348661752, 0.8277757348661751, 0.2726587406021189, 0.23857639802685407, 0.3408234257526487, 0.1533705415886919, 0.8136632596027098, 0.8878548264764069, 0.05222675449861217, 0.04715170474025314, 0.7544272758440502, 0.011787926185063285, 0.10609133566556955, 0.08251548329544299, 0.015912370641915672, 0.7956185320957836, 0.06364948256766269, 0.12729896513532538, 0.8652659625199463, 0.538377706211054, 0.21708778476252175, 0.09117686960025913, 0.1519614493337652, 0.010460296882017436, 0.889125234971482, 0.010460296882017436, 0.08368237505613949, 0.8994169772377759, 0.008854591673448495, 0.5932576421210491, 0.07969132506103646, 0.15938265012207292, 0.15938265012207292, 0.8639057222027768, 0.0886057150977207, 0.04430285754886035, 0.3286764493976233, 0.41333553484852625, 0.14939838608982878, 0.10955881646587443, 0.051799027529913, 0.8805834680085209, 0.9459929587657177, 0.046145997988571594, 0.11248769967926639, 0.8717796725143145, 0.9819128675756004, 0.05486354552553296, 0.7406578645946948, 0.10972709105106591, 0.05486354552553296, 0.041147659144149716, 0.9902533534287867, 0.06011994579777572, 0.9017991869666359, 0.1087752050570937, 0.8702016404567496, 0.10742220559687034, 0.8593776447749627, 0.054874977047414085, 0.9054371212823323, 0.027437488523707042, 0.9793676529466822, 0.9867890167564684, 0.9641848068416472, 0.0388391870423508, 0.7088151635229021, 0.058258780563526194, 0.1553567481694032, 0.0485489838029385, 0.1548822733646805, 0.13939404602821245, 0.0619529093458722, 0.63501732079519, 0.9483276557041742, 0.03469491423307955, 0.051798045831271594, 0.8805667791316171, 0.49631652871935533, 0.018728925612051146, 0.2809338841807672, 0.1030090908662813, 0.09832685946326851, 0.96181528655364, 0.8218377217140447, 0.16436754434280892, 0.009668679078988761, 0.3732017241962024, 0.017416080462489446, 0.5859267069880377, 0.003732017241962024, 0.019904091957130794, 0.865979213786829, 0.05093995375216641, 0.008489992292027735, 0.07640993062824962, 0.923570775472887, 0.026387736442082487, 0.052775472884164974, 0.05483220545047667, 0.9321474926581034, 0.17474099523299513, 0.04077289888769886, 0.4892747866523864, 0.2737608925316924, 0.01747409952329951, 0.011178414376486328, 0.10060572938837696, 0.25710353065918556, 0.5477423044478301, 0.08942731501189062, 0.05840977193948168, 0.33377012536846673, 0.14185230328159837, 0.45893392238164177, 0.13497649940935347, 0.26995299881870694, 0.07362354513237462, 0.5153648159266223, 0.9027195155427012, 0.009824191652680577, 0.4273523368916052, 0.21613221635897273, 0.0884177248741252, 0.2603410787960353, 0.41761890807043156, 0.11778994843012172, 0.0642490627800664, 0.3962025538104094, 0.0162536223982523, 0.048760867194756904, 0.07314130079213536, 0.040634055995630754, 0.8208079311117412, 0.8852935947349827, 0.026827078628332807, 0.10730831451333123, 0.9433915034313537, 0.04965218439112388, 0.9728935132112086, 0.34535713520245914, 0.4730919660307659, 0.10881115218707617, 0.05204011626338425, 0.014192758980922978, 0.7838269279627937, 0.1621710885440263, 0.04054277213600657, 0.013514257378668857, 0.9834906253879758, 0.9642240689991615, 0.024410735924029404, 0.9661384095953534, 0.023564351453545206, 0.023564351453545206, 0.07688368242452447, 0.9097902420235394, 0.9636114995952515, 0.008238496669676668, 0.3480764842938392, 0.30688400094545587, 0.01441736917193417, 0.32130137011739, 0.12191863489722704, 0.2926047237533449, 0.048767453958890816, 0.5333940276753683, 0.051895429214870954, 0.19028324045452683, 0.7611329618181073, 0.04913842279521849, 0.8844916103139328, 0.11160285355390583, 0.013950356694238228, 0.05580142677695291, 0.7672696181831026, 0.05580142677695291, 0.014498135375445446, 0.11598508300356357, 0.10148694762811812, 0.7684011748986087, 0.014498135375445446, 0.9636307676968362, 0.8797293083496189, 0.09163846961975197, 0.018327693923950394, 0.7736358830341785, 0.07627396029914436, 0.021792560085469818, 0.14165164055555382, 0.9636158843839896, 0.02102863268285221, 0.7780594092655319, 0.08411453073140884, 0.05607635382093923, 0.06308589804855663, 0.9898668422100151, 0.39349656234132896, 0.10416085473741062, 0.503444131230818, 0.08996149283694387, 0.7796662712535135, 0.14993582139490644, 0.4367302916762644, 0.5415455616785678, 0.9612679553793524, 0.9193054150886818, 0.808172062179184, 0.014303930304056356, 0.10012751212839449, 0.050063756064197246, 0.028607860608112712, 0.06729378039059666, 0.11215630065099445, 0.15701882091139224, 0.6729378039059667, 0.12991877088346235, 0.8228188822619282, 0.11164762317537652, 0.85596511101122, 0.9583503221324899, 0.034226797219017495, 0.975754511836228, 0.026924671016248528, 0.10769868406499411, 0.8077401304874557, 0.053849342032497055, 0.9803513943478112, 0.0470288202524741, 0.893547584797008, 0.0470288202524741, 0.11046985259596995, 0.42179398263915796, 0.03682328419865665, 0.4284891252207319, 0.024527681120644063, 0.08175893706881354, 0.34338753568901687, 0.5477848783610507, 0.7725953846320687, 0.24857101529640113, 0.3748293087802874, 0.07891143342742893, 0.07102029008468604, 0.22489758526817247, 0.8829547835330708, 0.08026861668482461, 0.8251168239257767, 0.023574766397879334, 0.141448598387276, 0.011787383198939667, 0.09619443178516028, 0.04809721589258014, 0.8657498860664424, 0.9423156841257152, 0.9666739327377706, 0.033754372259765394, 0.16202098684687388, 0.762848813070698, 0.033754372259765394, 0.013501748903906157, 0.923265211640378, 0.06839001567706504, 0.5776901524888853, 0.30113635608463174, 0.030728199600472628, 0.09218459880141788, 0.5202757033546537, 0.09459558242811884, 0.2364889560702971, 0.10551045732367102, 0.04729779121405942, 0.11521171784619, 0.05236896265735909, 0.7384023734687631, 0.06284275518883091, 0.031421377594415455, 0.7261851345512742, 0.2469029457474332, 0.021785554036538226, 0.08307089190468457, 0.8860895136499687, 0.02769029730156152, 0.9706054409706458, 0.9009669057319354, 0.07207735245855483, 0.018019338114638708, 0.28407116208488575, 0.2257003753551147, 0.16732958862534367, 0.21791760379114522, 0.10506741611358787, 0.10933656885426446, 0.17962436311772018, 0.5388730893531605, 0.14838534344507318, 0.02342926475448524, 0.9744586381020769, 0.9757574902516143, 0.9511281587155566, 0.015866157947773643, 0.9202371609708713, 0.06346463179109457, 0.9206462217865286, 0.06137641478576857, 0.06735380081113375, 0.2087967825145146, 0.6533318678679974, 0.06061842073002037, 0.01347076016222675], \"Term\": [\"000\", \"000\", \"000\", \"000\", \"000\", \"1959\", \"1959\", \"1960\", \"1960\", \"1960\", \"1961\", \"1961\", \"1961\", \"1961\", \"1961\", \"30\", \"30\", \"30\", \"30\", \"30\", \"62\", \"academic\", \"act\", \"act\", \"act\", \"act\", \"act\", \"adjustments\", \"adjustments\", \"administration\", \"administration\", \"administration\", \"administration\", \"adopting\", \"agreement\", \"agreement\", \"agreement\", \"aid\", \"aid\", \"aid\", \"aid\", \"aid\", \"aircraft\", \"aircraft\", \"alexander\", \"allocation\", \"allocation\", \"american\", \"american\", \"american\", \"american\", \"american\", \"anne\", \"anti\", \"anti\", \"anti\", \"appearances\", \"areas\", \"areas\", \"areas\", \"areas\", \"areas\", \"art\", \"art\", \"art\", \"art\", \"assessment\", \"assigned\", \"assigned\", \"authorized\", \"authorized\", \"authorized\", \"available\", \"available\", \"available\", \"available\", \"away\", \"away\", \"away\", \"away\", \"baby\", \"bankers\", \"banks\", \"banks\", \"baseball\", \"bed\", \"bed\", \"berlin\", \"berlin\", \"billion\", \"billion\", \"black\", \"black\", \"black\", \"board\", \"board\", \"board\", \"board\", \"board\", \"boats\", \"boats\", \"bombs\", \"bonds\", \"bonds\", \"bride\", \"business\", \"business\", \"business\", \"business\", \"business\", \"calendar\", \"calendar\", \"calendar\", \"came\", \"came\", \"came\", \"came\", \"campus\", \"captain\", \"cars\", \"cars\", \"cars\", \"castro\", \"catholic\", \"catholic\", \"cattle\", \"cattle\", \"cattle\", \"chamber\", \"chamber\", \"charter\", \"chemical\", \"chemical\", \"china\", \"china\", \"chinese\", \"city\", \"city\", \"city\", \"city\", \"claim\", \"claim\", \"claim\", \"claim\", \"claims\", \"claims\", \"claims\", \"claims\", \"class\", \"class\", \"class\", \"class\", \"classical\", \"clay\", \"clay\", \"clay\", \"clerical\", \"cloth\", \"clothes\", \"co\", \"co\", \"co\", \"co\", \"coach\", \"coal\", \"coal\", \"coat\", \"collective\", \"collective\", \"college\", \"college\", \"college\", \"college\", \"colleges\", \"colleges\", \"colleges\", \"colleges\", \"colored\", \"colors\", \"colors\", \"come\", \"come\", \"come\", \"come\", \"come\", \"committee\", \"committee\", \"committee\", \"commodities\", \"commodities\", \"commodities\", \"communist\", \"communist\", \"communist\", \"company\", \"company\", \"company\", \"company\", \"compared\", \"compared\", \"components\", \"congo\", \"connections\", \"conservation\", \"coordination\", \"cost\", \"cost\", \"cost\", \"cost\", \"cost\", \"couldn\", \"couldn\", \"countries\", \"countries\", \"countries\", \"countries\", \"county\", \"county\", \"county\", \"county\", \"cousin\", \"creative\", \"creative\", \"creative\", \"cuba\", \"cuba\", \"cuban\", \"curriculum\", \"curriculum\", \"daily\", \"daily\", \"daily\", \"daily\", \"daily\", \"day\", \"day\", \"day\", \"day\", \"day\", \"definition\", \"democratic\", \"democratic\", \"democrats\", \"denied\", \"denied\", \"department\", \"department\", \"department\", \"department\", \"design\", \"design\", \"design\", \"designer\", \"designer\", \"development\", \"development\", \"development\", \"development\", \"didn\", \"didn\", \"didn\", \"don\", \"don\", \"don\", \"don\", \"don\", \"door\", \"door\", \"door\", \"drill\", \"drill\", \"dry\", \"east\", \"east\", \"east\", \"east\", \"education\", \"education\", \"education\", \"education\", \"education\", \"eisenhower\", \"eisenhower\", \"electronic\", \"engineer\", \"engineer\", \"engineer\", \"entrance\", \"equipment\", \"equipment\", \"equipment\", \"exercise\", \"exercise\", \"exercise\", \"eyes\", \"eyes\", \"eyes\", \"faculty\", \"faculty\", \"federal\", \"federal\", \"federal\", \"federal\", \"feed\", \"feed\", \"feed\", \"feed\", \"fig\", \"filing\", \"filing\", \"fingers\", \"fiscal\", \"fiscal\", \"flowers\", \"forests\", \"forests\", \"frames\", \"fulfill\", \"game\", \"game\", \"game\", \"game\", \"gen\", \"general\", \"general\", \"general\", \"general\", \"general\", \"good\", \"good\", \"good\", \"good\", \"good\", \"got\", \"got\", \"government\", \"government\", \"government\", \"government\", \"guests\", \"guests\", \"hadn\", \"hadn\", \"hair\", \"ham\", \"handsome\", \"hated\", \"hearing\", \"hearing\", \"hearing\", \"hell\", \"high\", \"high\", \"high\", \"high\", \"high\", \"home\", \"home\", \"home\", \"home\", \"home\", \"house\", \"house\", \"house\", \"house\", \"house\", \"inch\", \"inch\", \"inch\", \"inch\", \"income\", \"income\", \"income\", \"income\", \"india\", \"india\", \"india\", \"india\", \"industrial\", \"industrial\", \"industry\", \"industry\", \"industry\", \"industry\", \"insurance\", \"insurance\", \"insurance\", \"insurance\", \"interference\", \"interference\", \"interference\", \"interference\", \"interior\", \"interior\", \"interior\", \"interior\", \"inventories\", \"investment\", \"investment\", \"island\", \"island\", \"island\", \"island\", \"island\", \"john\", \"john\", \"john\", \"john\", \"john\", \"junior\", \"junior\", \"junior\", \"junior\", \"katanga\", \"kennedy\", \"kennedy\", \"kennedy\", \"kennedy\", \"khrushchev\", \"knew\", \"knew\", \"knew\", \"knew\", \"know\", \"know\", \"know\", \"know\", \"know\", \"labor\", \"labor\", \"labor\", \"labor\", \"laboratory\", \"laos\", \"laos\", \"leaders\", \"leaders\", \"leaders\", \"league\", \"league\", \"league\", \"left\", \"left\", \"left\", \"left\", \"let\", \"let\", \"let\", \"let\", \"let\", \"level\", \"level\", \"level\", \"level\", \"level\", \"life\", \"life\", \"life\", \"life\", \"life\", \"liked\", \"little\", \"little\", \"little\", \"little\", \"little\", \"ll\", \"ll\", \"ll\", \"ll\", \"local\", \"local\", \"local\", \"local\", \"local\", \"look\", \"look\", \"look\", \"look\", \"look\", \"looked\", \"looked\", \"looked\", \"looked\", \"machine\", \"machine\", \"machinery\", \"machinery\", \"machinery\", \"machines\", \"machines\", \"machines\", \"man\", \"man\", \"man\", \"man\", \"man\", \"manufacturers\", \"manufacturers\", \"manufacturing\", \"manufacturing\", \"marketing\", \"mathematics\", \"mayor\", \"mayor\", \"meat\", \"meat\", \"meat\", \"medical\", \"medical\", \"medical\", \"meeting\", \"meeting\", \"meeting\", \"meeting\", \"members\", \"members\", \"members\", \"members\", \"membership\", \"membership\", \"membership\", \"men\", \"men\", \"men\", \"men\", \"men\", \"military\", \"military\", \"military\", \"million\", \"million\", \"million\", \"million\", \"million\", \"missile\", \"missile\", \"missiles\", \"monday\", \"monday\", \"monday\", \"monday\", \"moscow\", \"mother\", \"mother\", \"motors\", \"motors\", \"mr\", \"mr\", \"mr\", \"mr\", \"mr\", \"mrs\", \"mrs\", \"music\", \"music\", \"musical\", \"musical\", \"national\", \"national\", \"national\", \"national\", \"national\", \"nations\", \"nations\", \"nations\", \"nations\", \"officer\", \"officer\", \"officer\", \"officer\", \"old\", \"old\", \"old\", \"old\", \"old\", \"opposition\", \"pale\", \"party\", \"party\", \"party\", \"pay\", \"pay\", \"pay\", \"pay\", \"pay\", \"payment\", \"payment\", \"payments\", \"payments\", \"people\", \"people\", \"people\", \"people\", \"people\", \"pieces\", \"pieces\", \"pieces\", \"pieces\", \"pink\", \"place\", \"place\", \"place\", \"place\", \"place\", \"planning\", \"planning\", \"planning\", \"planning\", \"player\", \"polaris\", \"police\", \"police\", \"police\", \"political\", \"political\", \"political\", \"political\", \"pool\", \"pool\", \"pool\", \"pool\", \"pope\", \"premier\", \"president\", \"president\", \"president\", \"president\", \"president\", \"prestige\", \"prestige\", \"problem\", \"problem\", \"problem\", \"problem\", \"proceedings\", \"procurement\", \"procurement\", \"production\", \"production\", \"production\", \"production\", \"production\", \"products\", \"products\", \"products\", \"products\", \"professors\", \"program\", \"program\", \"program\", \"program\", \"property\", \"property\", \"property\", \"property\", \"prosperity\", \"provide\", \"provide\", \"provide\", \"provide\", \"provide\", \"providence\", \"providence\", \"providence\", \"public\", \"public\", \"public\", \"public\", \"puerto\", \"puerto\", \"race\", \"race\", \"radiation\", \"radiation\", \"railroad\", \"range\", \"range\", \"range\", \"range\", \"range\", \"rayburn\", \"recognition\", \"recognition\", \"recommendation\", \"recommendation\", \"recorded\", \"recorded\", \"recreation\", \"recreation\", \"recreation\", \"rehabilitation\", \"republican\", \"republicans\", \"research\", \"research\", \"research\", \"research\", \"research\", \"return\", \"return\", \"return\", \"return\", \"rhode\", \"rhode\", \"rico\", \"rico\", \"right\", \"right\", \"right\", \"right\", \"right\", \"robinson\", \"room\", \"room\", \"room\", \"said\", \"said\", \"said\", \"said\", \"said\", \"sales\", \"sales\", \"sales\", \"sales\", \"sat\", \"sat\", \"sat\", \"savings\", \"savings\", \"school\", \"school\", \"school\", \"school\", \"school\", \"schools\", \"schools\", \"schools\", \"schools\", \"schools\", \"secretary\", \"secretary\", \"secretary\", \"secretary\", \"section\", \"section\", \"section\", \"section\", \"sectors\", \"service\", \"service\", \"service\", \"service\", \"service\", \"services\", \"services\", \"services\", \"services\", \"shall\", \"shall\", \"shall\", \"shall\", \"shall\", \"shares\", \"shares\", \"shares\", \"shelter\", \"shelter\", \"shipments\", \"small\", \"small\", \"small\", \"small\", \"small\", \"son\", \"son\", \"son\", \"son\", \"southern\", \"soviet\", \"soviet\", \"speaker\", \"speaker\", \"speaker\", \"st\", \"st\", \"stared\", \"state\", \"state\", \"state\", \"state\", \"state\", \"states\", \"states\", \"states\", \"states\", \"stations\", \"stations\", \"stations\", \"stockholders\", \"stockholders\", \"student\", \"student\", \"student\", \"student\", \"student\", \"students\", \"students\", \"students\", \"students\", \"students\", \"studio\", \"sun\", \"sun\", \"sun\", \"sure\", \"sure\", \"sure\", \"sure\", \"sweet\", \"system\", \"system\", \"system\", \"system\", \"system\", \"systems\", \"tax\", \"tax\", \"tax\", \"teachers\", \"teachers\", \"teachers\", \"technical\", \"technical\", \"tends\", \"thereof\", \"thought\", \"thought\", \"thought\", \"thought\", \"thought\", \"title\", \"title\", \"title\", \"title\", \"tractor\", \"tractor\", \"treasury\", \"treasury\", \"trees\", \"trees\", \"troops\", \"trust\", \"trust\", \"trust\", \"trust\", \"trustees\", \"unions\", \"unions\", \"unions\", \"united\", \"united\", \"united\", \"united\", \"university\", \"university\", \"university\", \"university\", \"upstairs\", \"use\", \"use\", \"use\", \"use\", \"use\", \"utility\", \"utility\", \"ve\", \"ve\", \"ve\", \"ve\", \"vehicles\", \"vehicles\", \"vehicles\", \"vocational\", \"walls\", \"war\", \"war\", \"war\", \"war\", \"war\", \"wasn\", \"wasn\", \"water\", \"water\", \"water\", \"water\", \"way\", \"way\", \"way\", \"way\", \"way\", \"week\", \"week\", \"week\", \"week\", \"week\", \"went\", \"went\", \"went\", \"west\", \"west\", \"west\", \"windows\", \"woman\", \"woman\", \"woman\", \"work\", \"work\", \"work\", \"work\", \"work\", \"world\", \"world\", \"world\", \"world\", \"world\", \"yankees\", \"yards\", \"yellow\", \"yesterday\", \"yesterday\", \"yesterday\", \"yield\", \"yield\", \"york\", \"york\", \"york\", \"york\", \"york\"]}, \"R\": 30, \"lambda.step\": 0.01, \"plot.opts\": {\"xlab\": \"PC1\", \"ylab\": \"PC2\"}, \"topic.order\": [1, 2, 3, 4, 5]};\n",
       "\n",
       "function LDAvis_load_lib(url, callback){\n",
       "  var s = document.createElement('script');\n",
       "  s.src = url;\n",
       "  s.async = true;\n",
       "  s.onreadystatechange = s.onload = callback;\n",
       "  s.onerror = function(){console.warn(\"failed to load library \" + url);};\n",
       "  document.getElementsByTagName(\"head\")[0].appendChild(s);\n",
       "}\n",
       "\n",
       "if(typeof(LDAvis) !== \"undefined\"){\n",
       "   // already loaded: just create the visualization\n",
       "   !function(LDAvis){\n",
       "       new LDAvis(\"#\" + \"ldavis_el64364108232426249823871581\", ldavis_el64364108232426249823871581_data);\n",
       "   }(LDAvis);\n",
       "}else if(typeof define === \"function\" && define.amd){\n",
       "   // require.js is available: use it to load d3/LDAvis\n",
       "   require.config({paths: {d3: \"https://d3js.org/d3.v5\"}});\n",
       "   require([\"d3\"], function(d3){\n",
       "      window.d3 = d3;\n",
       "      LDAvis_load_lib(\"https://cdn.jsdelivr.net/gh/bmabey/pyLDAvis@3.4.0/pyLDAvis/js/ldavis.v3.0.0.js\", function(){\n",
       "        new LDAvis(\"#\" + \"ldavis_el64364108232426249823871581\", ldavis_el64364108232426249823871581_data);\n",
       "      });\n",
       "    });\n",
       "}else{\n",
       "    // require.js not available: dynamically load d3 & LDAvis\n",
       "    LDAvis_load_lib(\"https://d3js.org/d3.v5.js\", function(){\n",
       "         LDAvis_load_lib(\"https://cdn.jsdelivr.net/gh/bmabey/pyLDAvis@3.4.0/pyLDAvis/js/ldavis.v3.0.0.js\", function(){\n",
       "                 new LDAvis(\"#\" + \"ldavis_el64364108232426249823871581\", ldavis_el64364108232426249823871581_data);\n",
       "            })\n",
       "         });\n",
       "}\n",
       "</script>"
      ],
      "text/plain": [
       "<IPython.core.display.HTML object>"
      ]
     },
     "execution_count": 19,
     "metadata": {},
     "output_type": "execute_result"
    }
   ],
   "source": [
    "pyLDAvis.display(lda_display)"
   ]
  },
  {
   "cell_type": "markdown",
   "id": "a3d14c87",
   "metadata": {},
   "source": [
    "Q: What conclusions do you draw from the visualization above? Please address the principal component scatterplot and the salient terms graph.\n",
    "\n",
    "A: <!-- Your answer here --> \n"
   ]
  }
 ],
 "metadata": {
  "kernelspec": {
   "display_name": "Python 3 (ipykernel)",
   "language": "python",
   "name": "python3"
  },
  "language_info": {
   "codemirror_mode": {
    "name": "ipython",
    "version": 3
   },
   "file_extension": ".py",
   "mimetype": "text/x-python",
   "name": "python",
   "nbconvert_exporter": "python",
   "pygments_lexer": "ipython3",
   "version": "3.11.4"
  }
 },
 "nbformat": 4,
 "nbformat_minor": 5
}
